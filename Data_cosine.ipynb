{
 "cells": [
  {
   "cell_type": "code",
   "execution_count": 1,
   "id": "3b35b9a3-058f-482b-a96e-0441f59e16e1",
   "metadata": {},
   "outputs": [],
   "source": [
    "import numpy as np\n",
    "import pandas as pd\n",
    "import matplotlib.pyplot as plt\n",
    "import matplotlib.pyplot as plt\n",
    "import seaborn as sns\n",
    "from sklearn.feature_extraction.text import TfidfVectorizer, CountVectorizer\n",
    "from sklearn.metrics.pairwise import linear_kernel, cosine_similarity\n",
    "from underthesea import word_tokenize, pos_tag, sent_tokenize\n",
    "import warnings\n",
    "from gensim import corpora, models, similarities\n",
    "import jieba\n",
    "import re\n",
    "\n",
    "import warnings\n",
    "\n",
    "warnings.filterwarnings('ignore')"
   ]
  },
  {
   "cell_type": "code",
   "execution_count": 2,
   "id": "14043424-c082-4b8f-9d63-2e84995dd022",
   "metadata": {},
   "outputs": [],
   "source": [
    "STOP_WORD_FILE = 'Files/vietnamese-stopwords.txt'"
   ]
  },
  {
   "cell_type": "code",
   "execution_count": 3,
   "id": "ee505504-4f59-4729-a7cc-c9d4faa0f1d9",
   "metadata": {},
   "outputs": [],
   "source": [
    "with open(STOP_WORD_FILE, 'r', encoding='utf-8') as file:\n",
    "    stop_words = file.read()\n",
    "\n",
    "stop_words = stop_words.split('\\n')"
   ]
  },
  {
   "cell_type": "code",
   "execution_count": 4,
   "id": "cf04b867-cd36-49f7-bed9-ededfb8404d3",
   "metadata": {},
   "outputs": [],
   "source": [
    "data = pd.read_csv('Files/Product.csv', index_col=0)"
   ]
  },
  {
   "cell_type": "code",
   "execution_count": 5,
   "id": "05cf3645-2c04-44c2-8349-c5dc03450576",
   "metadata": {},
   "outputs": [
    {
     "data": {
      "text/html": [
       "<div>\n",
       "<style scoped>\n",
       "    .dataframe tbody tr th:only-of-type {\n",
       "        vertical-align: middle;\n",
       "    }\n",
       "\n",
       "    .dataframe tbody tr th {\n",
       "        vertical-align: top;\n",
       "    }\n",
       "\n",
       "    .dataframe thead th {\n",
       "        text-align: right;\n",
       "    }\n",
       "</style>\n",
       "<table border=\"1\" class=\"dataframe\">\n",
       "  <thead>\n",
       "    <tr style=\"text-align: right;\">\n",
       "      <th></th>\n",
       "      <th>product_id</th>\n",
       "      <th>product_name</th>\n",
       "      <th>description</th>\n",
       "      <th>product_rating</th>\n",
       "      <th>group</th>\n",
       "      <th>price</th>\n",
       "    </tr>\n",
       "  </thead>\n",
       "  <tbody>\n",
       "    <tr>\n",
       "      <th>0</th>\n",
       "      <td>48102821</td>\n",
       "      <td>Tai nghe Bluetooth Inpods 12 - Cảm biến vân ta...</td>\n",
       "      <td>Dung lượng pin 300 Thời gian pin - Thời gian ...</td>\n",
       "      <td>4.0</td>\n",
       "      <td>Thiết Bị Số - Phụ Kiện Số/Thiết Bị Âm Thanh và...</td>\n",
       "      <td>77000</td>\n",
       "    </tr>\n",
       "    <tr>\n",
       "      <th>1</th>\n",
       "      <td>52333193</td>\n",
       "      <td>Tai nghe bluetooth không dây F9 True wireless ...</td>\n",
       "      <td>Dung lượng pin 2000mah Thời gian pin Thời gia...</td>\n",
       "      <td>4.5</td>\n",
       "      <td>Thiết Bị Số - Phụ Kiện Số/Thiết Bị Âm Thanh và...</td>\n",
       "      <td>132000</td>\n",
       "    </tr>\n",
       "    <tr>\n",
       "      <th>2</th>\n",
       "      <td>299461</td>\n",
       "      <td>Chuột Không Dây Logitech M331 Silent - Hàng Ch...</td>\n",
       "      <td>Thương hiệu Logitech Độ phân giải quang học 1...</td>\n",
       "      <td>4.8</td>\n",
       "      <td>Thiết Bị Số - Phụ Kiện Số/Phụ kiện máy tính và...</td>\n",
       "      <td>299000</td>\n",
       "    </tr>\n",
       "    <tr>\n",
       "      <th>3</th>\n",
       "      <td>57440329</td>\n",
       "      <td>Loa Bluetooth 5.0 Kiêm Đồng Hồ Báo Thức - [[ 2...</td>\n",
       "      <td>Thương hiệu Acome Xuất xứ thương hiệu Indones...</td>\n",
       "      <td>4.7</td>\n",
       "      <td>Thiết Bị Số - Phụ Kiện Số/Thiết Bị Âm Thanh và...</td>\n",
       "      <td>149000</td>\n",
       "    </tr>\n",
       "    <tr>\n",
       "      <th>4</th>\n",
       "      <td>38458616</td>\n",
       "      <td>Tai Nghe Bluetooth Apple AirPods Pro True Wire...</td>\n",
       "      <td>Thương hiệu Apple Xuất xứ thương hiệu Mỹ Kích...</td>\n",
       "      <td>4.8</td>\n",
       "      <td>Thiết Bị Số - Phụ Kiện Số/Thiết Bị Âm Thanh và...</td>\n",
       "      <td>5090000</td>\n",
       "    </tr>\n",
       "  </tbody>\n",
       "</table>\n",
       "</div>"
      ],
      "text/plain": [
       "   product_id                                       product_name  \\\n",
       "0    48102821  Tai nghe Bluetooth Inpods 12 - Cảm biến vân ta...   \n",
       "1    52333193  Tai nghe bluetooth không dây F9 True wireless ...   \n",
       "2      299461  Chuột Không Dây Logitech M331 Silent - Hàng Ch...   \n",
       "3    57440329  Loa Bluetooth 5.0 Kiêm Đồng Hồ Báo Thức - [[ 2...   \n",
       "4    38458616  Tai Nghe Bluetooth Apple AirPods Pro True Wire...   \n",
       "\n",
       "                                         description  product_rating  \\\n",
       "0   Dung lượng pin 300 Thời gian pin - Thời gian ...             4.0   \n",
       "1   Dung lượng pin 2000mah Thời gian pin Thời gia...             4.5   \n",
       "2   Thương hiệu Logitech Độ phân giải quang học 1...             4.8   \n",
       "3   Thương hiệu Acome Xuất xứ thương hiệu Indones...             4.7   \n",
       "4   Thương hiệu Apple Xuất xứ thương hiệu Mỹ Kích...             4.8   \n",
       "\n",
       "                                               group    price  \n",
       "0  Thiết Bị Số - Phụ Kiện Số/Thiết Bị Âm Thanh và...    77000  \n",
       "1  Thiết Bị Số - Phụ Kiện Số/Thiết Bị Âm Thanh và...   132000  \n",
       "2  Thiết Bị Số - Phụ Kiện Số/Phụ kiện máy tính và...   299000  \n",
       "3  Thiết Bị Số - Phụ Kiện Số/Thiết Bị Âm Thanh và...   149000  \n",
       "4  Thiết Bị Số - Phụ Kiện Số/Thiết Bị Âm Thanh và...  5090000  "
      ]
     },
     "execution_count": 5,
     "metadata": {},
     "output_type": "execute_result"
    }
   ],
   "source": [
    "data.head()"
   ]
  },
  {
   "cell_type": "code",
   "execution_count": 6,
   "id": "d2937e68-035d-4638-bd78-0587c39b5254",
   "metadata": {},
   "outputs": [],
   "source": [
    "data['product'] = data['product_name'].astype(str) + data['description'].astype(str)"
   ]
  },
  {
   "cell_type": "code",
   "execution_count": 7,
   "id": "aa384623-e748-4650-86ca-b0e6c6571e04",
   "metadata": {},
   "outputs": [
    {
     "data": {
      "text/html": [
       "<div>\n",
       "<style scoped>\n",
       "    .dataframe tbody tr th:only-of-type {\n",
       "        vertical-align: middle;\n",
       "    }\n",
       "\n",
       "    .dataframe tbody tr th {\n",
       "        vertical-align: top;\n",
       "    }\n",
       "\n",
       "    .dataframe thead th {\n",
       "        text-align: right;\n",
       "    }\n",
       "</style>\n",
       "<table border=\"1\" class=\"dataframe\">\n",
       "  <thead>\n",
       "    <tr style=\"text-align: right;\">\n",
       "      <th></th>\n",
       "      <th>product_id</th>\n",
       "      <th>product_name</th>\n",
       "      <th>description</th>\n",
       "      <th>product_rating</th>\n",
       "      <th>group</th>\n",
       "      <th>price</th>\n",
       "      <th>product</th>\n",
       "    </tr>\n",
       "  </thead>\n",
       "  <tbody>\n",
       "    <tr>\n",
       "      <th>0</th>\n",
       "      <td>48102821</td>\n",
       "      <td>Tai nghe Bluetooth Inpods 12 - Cảm biến vân ta...</td>\n",
       "      <td>Dung lượng pin 300 Thời gian pin - Thời gian ...</td>\n",
       "      <td>4.0</td>\n",
       "      <td>Thiết Bị Số - Phụ Kiện Số/Thiết Bị Âm Thanh và...</td>\n",
       "      <td>77000</td>\n",
       "      <td>Tai nghe Bluetooth Inpods 12 - Cảm biến vân ta...</td>\n",
       "    </tr>\n",
       "    <tr>\n",
       "      <th>1</th>\n",
       "      <td>52333193</td>\n",
       "      <td>Tai nghe bluetooth không dây F9 True wireless ...</td>\n",
       "      <td>Dung lượng pin 2000mah Thời gian pin Thời gia...</td>\n",
       "      <td>4.5</td>\n",
       "      <td>Thiết Bị Số - Phụ Kiện Số/Thiết Bị Âm Thanh và...</td>\n",
       "      <td>132000</td>\n",
       "      <td>Tai nghe bluetooth không dây F9 True wireless ...</td>\n",
       "    </tr>\n",
       "    <tr>\n",
       "      <th>2</th>\n",
       "      <td>299461</td>\n",
       "      <td>Chuột Không Dây Logitech M331 Silent - Hàng Ch...</td>\n",
       "      <td>Thương hiệu Logitech Độ phân giải quang học 1...</td>\n",
       "      <td>4.8</td>\n",
       "      <td>Thiết Bị Số - Phụ Kiện Số/Phụ kiện máy tính và...</td>\n",
       "      <td>299000</td>\n",
       "      <td>Chuột Không Dây Logitech M331 Silent - Hàng Ch...</td>\n",
       "    </tr>\n",
       "    <tr>\n",
       "      <th>3</th>\n",
       "      <td>57440329</td>\n",
       "      <td>Loa Bluetooth 5.0 Kiêm Đồng Hồ Báo Thức - [[ 2...</td>\n",
       "      <td>Thương hiệu Acome Xuất xứ thương hiệu Indones...</td>\n",
       "      <td>4.7</td>\n",
       "      <td>Thiết Bị Số - Phụ Kiện Số/Thiết Bị Âm Thanh và...</td>\n",
       "      <td>149000</td>\n",
       "      <td>Loa Bluetooth 5.0 Kiêm Đồng Hồ Báo Thức - [[ 2...</td>\n",
       "    </tr>\n",
       "    <tr>\n",
       "      <th>4</th>\n",
       "      <td>38458616</td>\n",
       "      <td>Tai Nghe Bluetooth Apple AirPods Pro True Wire...</td>\n",
       "      <td>Thương hiệu Apple Xuất xứ thương hiệu Mỹ Kích...</td>\n",
       "      <td>4.8</td>\n",
       "      <td>Thiết Bị Số - Phụ Kiện Số/Thiết Bị Âm Thanh và...</td>\n",
       "      <td>5090000</td>\n",
       "      <td>Tai Nghe Bluetooth Apple AirPods Pro True Wire...</td>\n",
       "    </tr>\n",
       "  </tbody>\n",
       "</table>\n",
       "</div>"
      ],
      "text/plain": [
       "   product_id                                       product_name  \\\n",
       "0    48102821  Tai nghe Bluetooth Inpods 12 - Cảm biến vân ta...   \n",
       "1    52333193  Tai nghe bluetooth không dây F9 True wireless ...   \n",
       "2      299461  Chuột Không Dây Logitech M331 Silent - Hàng Ch...   \n",
       "3    57440329  Loa Bluetooth 5.0 Kiêm Đồng Hồ Báo Thức - [[ 2...   \n",
       "4    38458616  Tai Nghe Bluetooth Apple AirPods Pro True Wire...   \n",
       "\n",
       "                                         description  product_rating  \\\n",
       "0   Dung lượng pin 300 Thời gian pin - Thời gian ...             4.0   \n",
       "1   Dung lượng pin 2000mah Thời gian pin Thời gia...             4.5   \n",
       "2   Thương hiệu Logitech Độ phân giải quang học 1...             4.8   \n",
       "3   Thương hiệu Acome Xuất xứ thương hiệu Indones...             4.7   \n",
       "4   Thương hiệu Apple Xuất xứ thương hiệu Mỹ Kích...             4.8   \n",
       "\n",
       "                                               group    price  \\\n",
       "0  Thiết Bị Số - Phụ Kiện Số/Thiết Bị Âm Thanh và...    77000   \n",
       "1  Thiết Bị Số - Phụ Kiện Số/Thiết Bị Âm Thanh và...   132000   \n",
       "2  Thiết Bị Số - Phụ Kiện Số/Phụ kiện máy tính và...   299000   \n",
       "3  Thiết Bị Số - Phụ Kiện Số/Thiết Bị Âm Thanh và...   149000   \n",
       "4  Thiết Bị Số - Phụ Kiện Số/Thiết Bị Âm Thanh và...  5090000   \n",
       "\n",
       "                                             product  \n",
       "0  Tai nghe Bluetooth Inpods 12 - Cảm biến vân ta...  \n",
       "1  Tai nghe bluetooth không dây F9 True wireless ...  \n",
       "2  Chuột Không Dây Logitech M331 Silent - Hàng Ch...  \n",
       "3  Loa Bluetooth 5.0 Kiêm Đồng Hồ Báo Thức - [[ 2...  \n",
       "4  Tai Nghe Bluetooth Apple AirPods Pro True Wire...  "
      ]
     },
     "execution_count": 7,
     "metadata": {},
     "output_type": "execute_result"
    }
   ],
   "source": [
    "data.head()"
   ]
  },
  {
   "cell_type": "code",
   "execution_count": 8,
   "id": "ec0c5c18-7aa4-4d03-afce-f0c70d9c9f1e",
   "metadata": {},
   "outputs": [],
   "source": [
    "data[\"Index\"] = [i for i in range(data.shape[0])]"
   ]
  },
  {
   "cell_type": "code",
   "execution_count": 9,
   "id": "2c408371-bed5-4f53-ab70-6824cbe9f206",
   "metadata": {},
   "outputs": [],
   "source": [
    "# word_tokenize\n",
    "data['product_wt'] = data['product'].apply(lambda x: word_tokenize(x, format = 'text'))"
   ]
  },
  {
   "cell_type": "code",
   "execution_count": 10,
   "id": "b3c3837c-ba27-49f4-9e93-e7d98183a764",
   "metadata": {},
   "outputs": [],
   "source": [
    "data.to_csv('Files/Product_data.csv')"
   ]
  },
  {
   "cell_type": "code",
   "execution_count": 11,
   "id": "35ec1061-677d-4714-b2b7-8680c8827bac",
   "metadata": {},
   "outputs": [],
   "source": [
    "# Define helper functions for lookup and similarity\n",
    "def find_product_from_index(index) :\n",
    "    return data[data['Index'] == index][\"product_name\"].values[0]\n",
    "\n",
    "def find_index_from_name(name) :\n",
    "    return data[data[\"product_name\"] == name][\"Index\"].values[0]\n",
    "\n",
    "def content_based_product(name, percentage = 0, n = 5):\n",
    "    # Get the index of the given product name\n",
    "    ind = find_index_from_name(name)\n",
    "\n",
    "    # Get all the similarity values for the product, and convert it to a list\n",
    "    sim_product = list(enumerate(sim[ind]))\n",
    "\n",
    "    # Sort the product based on similarity values\n",
    "    names, score = map(list, zip(*sorted(sim_product, key = lambda x : x[1], \n",
    "                                        reverse = True)[1:]))\n",
    "    \n",
    "    # Get the number of recommended products\n",
    "    if percentage == 0:\n",
    "      rec_num = n\n",
    "    else:\n",
    "      # Get the number of given percentage\n",
    "      rec_num = int((percentage/100) * len(titles))\n",
    "\n",
    "    # Find the indexes of the top n most similar titles\n",
    "    top_n_indexes = names[:rec_num]\n",
    "\n",
    "    # Get the dataframe rows based on the indexes\n",
    "    top_n_products = data.loc[data.index[top_n_indexes]]\n",
    "\n",
    "    # Add the similarity scores to the dataframe\n",
    "    top_n_products['Similarity-Score'] = score[:rec_num]\n",
    "\n",
    "    # Return the dataframe\n",
    "    return top_n_products[['Similarity-Score', 'product_name']]"
   ]
  },
  {
   "cell_type": "code",
   "execution_count": 12,
   "id": "23525e08-a617-4a27-9d4f-f0c39f43d7e5",
   "metadata": {},
   "outputs": [
    {
     "data": {
      "text/plain": [
       "'Tai nghe bluetooth không dây F9 True wireless Dock Sạc có Led Báo Pin Kép'"
      ]
     },
     "execution_count": 12,
     "metadata": {},
     "output_type": "execute_result"
    }
   ],
   "source": [
    "find_product_from_index(1)"
   ]
  },
  {
   "cell_type": "code",
   "execution_count": 13,
   "id": "3bfbe77a-ffce-4d95-ab35-e1fbc0ec2cb9",
   "metadata": {},
   "outputs": [],
   "source": [
    "name = 'Tai nghe bluetooth không dây F9 True wireless Dock Sạc có Led Báo Pin Kép'"
   ]
  },
  {
   "cell_type": "markdown",
   "id": "7586b67b-f5de-4956-b625-dc036a75d793",
   "metadata": {},
   "source": [
    "### Doc2Vec"
   ]
  },
  {
   "cell_type": "code",
   "execution_count": 14,
   "id": "ed5522c5-1d8e-490d-bb49-37e10c0c2406",
   "metadata": {},
   "outputs": [],
   "source": [
    "from gensim.models.doc2vec import Doc2Vec, TaggedDocument"
   ]
  },
  {
   "cell_type": "code",
   "execution_count": 15,
   "id": "5ce07db5-e5e7-4a38-a5d5-23d894cba5ec",
   "metadata": {},
   "outputs": [],
   "source": [
    "tagged_data = [TaggedDocument(words = word_tokenize(doc), tags = [i]) \n",
    "                for i, doc in enumerate(data['product'])]"
   ]
  },
  {
   "cell_type": "code",
   "execution_count": 16,
   "id": "09a25537-0c4f-487d-b7e3-9a082424f340",
   "metadata": {},
   "outputs": [],
   "source": [
    "# Create a Doc2Vec model, which vectorizes our texts using a neural network\n",
    "model_d2v = Doc2Vec(dm = 0, vector_size = 300, alpha = 0.05, min_alpha = 0.01,\n",
    "                    min_count = 1)\n",
    "\n",
    "# Build a vocabulary of the unique words in the whole corpus\n",
    "model_d2v.build_vocab(tagged_data)"
   ]
  },
  {
   "cell_type": "code",
   "execution_count": 17,
   "id": "3f28e53d-2f66-4286-a530-29ecf6f953ca",
   "metadata": {},
   "outputs": [],
   "source": [
    "# Train the model using 20 epochs\n",
    "for epoch in range(20):\n",
    "    model_d2v.train(tagged_data, total_examples = model_d2v.corpus_count, \n",
    "                    epochs = model_d2v.epochs)"
   ]
  },
  {
   "cell_type": "code",
   "execution_count": 18,
   "id": "e8f1c66a-834d-42eb-b8e9-b0e4525dbf58",
   "metadata": {},
   "outputs": [],
   "source": [
    "# Create an array filled with zeros, with the size of number of documents\n",
    "# and vector size.    \n",
    "doc_embeddings = np.zeros((data.shape[0], 300))\n",
    "\n",
    "# Store the embedding vectors that was created by the model\n",
    "for i in range(len(doc_embeddings)):\n",
    "    doc_embeddings[i] = model_d2v.docvecs[i]"
   ]
  },
  {
   "cell_type": "code",
   "execution_count": 19,
   "id": "94f834dc-51b1-44dc-a7bb-ae00a2a9ab43",
   "metadata": {},
   "outputs": [
    {
     "data": {
      "text/html": [
       "<div>\n",
       "<style scoped>\n",
       "    .dataframe tbody tr th:only-of-type {\n",
       "        vertical-align: middle;\n",
       "    }\n",
       "\n",
       "    .dataframe tbody tr th {\n",
       "        vertical-align: top;\n",
       "    }\n",
       "\n",
       "    .dataframe thead th {\n",
       "        text-align: right;\n",
       "    }\n",
       "</style>\n",
       "<table border=\"1\" class=\"dataframe\">\n",
       "  <thead>\n",
       "    <tr style=\"text-align: right;\">\n",
       "      <th></th>\n",
       "      <th>Similarity-Score</th>\n",
       "      <th>product_name</th>\n",
       "    </tr>\n",
       "  </thead>\n",
       "  <tbody>\n",
       "    <tr>\n",
       "      <th>66</th>\n",
       "      <td>0.897091</td>\n",
       "      <td>Tai Nghe Bluetooth Không Dây 5.0, AMOI F9, Cảm...</td>\n",
       "    </tr>\n",
       "    <tr>\n",
       "      <th>23</th>\n",
       "      <td>0.860249</td>\n",
       "      <td>Tai Nghe Bluetooth True Wireless AMOI F9 5.0 C...</td>\n",
       "    </tr>\n",
       "    <tr>\n",
       "      <th>119</th>\n",
       "      <td>0.845998</td>\n",
       "      <td>Tai Nghe Bluetooth True Wireless AMOI F9 5.0 C...</td>\n",
       "    </tr>\n",
       "    <tr>\n",
       "      <th>635</th>\n",
       "      <td>0.781890</td>\n",
       "      <td>Tai Nghe Bluetooth Amoi F9 kèm Củ Sạc 1A và Cá...</td>\n",
       "    </tr>\n",
       "    <tr>\n",
       "      <th>134</th>\n",
       "      <td>0.459745</td>\n",
       "      <td>Tai Nghe Bluetooth TWS F9 Tai Nghe Nhét  Hai T...</td>\n",
       "    </tr>\n",
       "  </tbody>\n",
       "</table>\n",
       "</div>"
      ],
      "text/plain": [
       "     Similarity-Score                                       product_name\n",
       "66           0.897091  Tai Nghe Bluetooth Không Dây 5.0, AMOI F9, Cảm...\n",
       "23           0.860249  Tai Nghe Bluetooth True Wireless AMOI F9 5.0 C...\n",
       "119          0.845998  Tai Nghe Bluetooth True Wireless AMOI F9 5.0 C...\n",
       "635          0.781890  Tai Nghe Bluetooth Amoi F9 kèm Củ Sạc 1A và Cá...\n",
       "134          0.459745  Tai Nghe Bluetooth TWS F9 Tai Nghe Nhét  Hai T..."
      ]
     },
     "execution_count": 19,
     "metadata": {},
     "output_type": "execute_result"
    }
   ],
   "source": [
    "# Perform Cosine Similarity on our embedded texts\n",
    "sim = cosine_similarity(doc_embeddings)\n",
    "dv_sim = sim\n",
    "\n",
    "# Content Based Recommendation\n",
    "dv_recommendations = content_based_product(name)\n",
    "dv_recommendations"
   ]
  },
  {
   "cell_type": "markdown",
   "id": "ae389c97-cbff-4875-b48f-1ec6b75394a0",
   "metadata": {},
   "source": [
    "### Cosine similarity with TF-IDF"
   ]
  },
  {
   "cell_type": "code",
   "execution_count": 20,
   "id": "5ee243af-88b0-430f-aa10-0eb7291a3523",
   "metadata": {},
   "outputs": [
    {
     "data": {
      "text/html": [
       "<div>\n",
       "<style scoped>\n",
       "    .dataframe tbody tr th:only-of-type {\n",
       "        vertical-align: middle;\n",
       "    }\n",
       "\n",
       "    .dataframe tbody tr th {\n",
       "        vertical-align: top;\n",
       "    }\n",
       "\n",
       "    .dataframe thead th {\n",
       "        text-align: right;\n",
       "    }\n",
       "</style>\n",
       "<table border=\"1\" class=\"dataframe\">\n",
       "  <thead>\n",
       "    <tr style=\"text-align: right;\">\n",
       "      <th></th>\n",
       "      <th>Similarity-Score</th>\n",
       "      <th>product_name</th>\n",
       "    </tr>\n",
       "  </thead>\n",
       "  <tbody>\n",
       "    <tr>\n",
       "      <th>66</th>\n",
       "      <td>0.930648</td>\n",
       "      <td>Tai Nghe Bluetooth Không Dây 5.0, AMOI F9, Cảm...</td>\n",
       "    </tr>\n",
       "    <tr>\n",
       "      <th>23</th>\n",
       "      <td>0.892896</td>\n",
       "      <td>Tai Nghe Bluetooth True Wireless AMOI F9 5.0 C...</td>\n",
       "    </tr>\n",
       "    <tr>\n",
       "      <th>119</th>\n",
       "      <td>0.871793</td>\n",
       "      <td>Tai Nghe Bluetooth True Wireless AMOI F9 5.0 C...</td>\n",
       "    </tr>\n",
       "    <tr>\n",
       "      <th>635</th>\n",
       "      <td>0.844326</td>\n",
       "      <td>Tai Nghe Bluetooth Amoi F9 kèm Củ Sạc 1A và Cá...</td>\n",
       "    </tr>\n",
       "    <tr>\n",
       "      <th>719</th>\n",
       "      <td>0.670654</td>\n",
       "      <td>Tai nghe Blutooth 5.0 kiêm dock sạc dự phòng- ...</td>\n",
       "    </tr>\n",
       "  </tbody>\n",
       "</table>\n",
       "</div>"
      ],
      "text/plain": [
       "     Similarity-Score                                       product_name\n",
       "66           0.930648  Tai Nghe Bluetooth Không Dây 5.0, AMOI F9, Cảm...\n",
       "23           0.892896  Tai Nghe Bluetooth True Wireless AMOI F9 5.0 C...\n",
       "119          0.871793  Tai Nghe Bluetooth True Wireless AMOI F9 5.0 C...\n",
       "635          0.844326  Tai Nghe Bluetooth Amoi F9 kèm Củ Sạc 1A và Cá...\n",
       "719          0.670654  Tai nghe Blutooth 5.0 kiêm dock sạc dự phòng- ..."
      ]
     },
     "execution_count": 20,
     "metadata": {},
     "output_type": "execute_result"
    }
   ],
   "source": [
    "# Initialize tf-idf for product_wt\n",
    "tfidf = TfidfVectorizer(analyzer='word', min_df=0, stop_words=stop_words)\n",
    "tfidf_content = tfidf.fit_transform(data['product_wt'])\n",
    "\n",
    "# Perform Cosine Similarity evaluation\n",
    "sim = cosine_similarity(tfidf_content, tfidf_content)\n",
    "tfidf_sim = sim\n",
    "\n",
    "# Content Based Recommendation\n",
    "tfidf_recommendations = content_based_product(name)\n",
    "tfidf_recommendations"
   ]
  },
  {
   "cell_type": "markdown",
   "id": "ecebd35f-b90f-40a9-bbab-bf74fb4a7b23",
   "metadata": {},
   "source": [
    "### Cosine similarity with Count Vectorizer"
   ]
  },
  {
   "cell_type": "code",
   "execution_count": 21,
   "id": "a0c9090e-c08a-448c-869a-6c8caae209a5",
   "metadata": {},
   "outputs": [
    {
     "data": {
      "text/html": [
       "<div>\n",
       "<style scoped>\n",
       "    .dataframe tbody tr th:only-of-type {\n",
       "        vertical-align: middle;\n",
       "    }\n",
       "\n",
       "    .dataframe tbody tr th {\n",
       "        vertical-align: top;\n",
       "    }\n",
       "\n",
       "    .dataframe thead th {\n",
       "        text-align: right;\n",
       "    }\n",
       "</style>\n",
       "<table border=\"1\" class=\"dataframe\">\n",
       "  <thead>\n",
       "    <tr style=\"text-align: right;\">\n",
       "      <th></th>\n",
       "      <th>Similarity-Score</th>\n",
       "      <th>product_name</th>\n",
       "    </tr>\n",
       "  </thead>\n",
       "  <tbody>\n",
       "    <tr>\n",
       "      <th>66</th>\n",
       "      <td>0.947926</td>\n",
       "      <td>Tai Nghe Bluetooth Không Dây 5.0, AMOI F9, Cảm...</td>\n",
       "    </tr>\n",
       "    <tr>\n",
       "      <th>23</th>\n",
       "      <td>0.906872</td>\n",
       "      <td>Tai Nghe Bluetooth True Wireless AMOI F9 5.0 C...</td>\n",
       "    </tr>\n",
       "    <tr>\n",
       "      <th>119</th>\n",
       "      <td>0.890952</td>\n",
       "      <td>Tai Nghe Bluetooth True Wireless AMOI F9 5.0 C...</td>\n",
       "    </tr>\n",
       "    <tr>\n",
       "      <th>635</th>\n",
       "      <td>0.862546</td>\n",
       "      <td>Tai Nghe Bluetooth Amoi F9 kèm Củ Sạc 1A và Cá...</td>\n",
       "    </tr>\n",
       "    <tr>\n",
       "      <th>719</th>\n",
       "      <td>0.691710</td>\n",
       "      <td>Tai nghe Blutooth 5.0 kiêm dock sạc dự phòng- ...</td>\n",
       "    </tr>\n",
       "  </tbody>\n",
       "</table>\n",
       "</div>"
      ],
      "text/plain": [
       "     Similarity-Score                                       product_name\n",
       "66           0.947926  Tai Nghe Bluetooth Không Dây 5.0, AMOI F9, Cảm...\n",
       "23           0.906872  Tai Nghe Bluetooth True Wireless AMOI F9 5.0 C...\n",
       "119          0.890952  Tai Nghe Bluetooth True Wireless AMOI F9 5.0 C...\n",
       "635          0.862546  Tai Nghe Bluetooth Amoi F9 kèm Củ Sạc 1A và Cá...\n",
       "719          0.691710  Tai nghe Blutooth 5.0 kiêm dock sạc dự phòng- ..."
      ]
     },
     "execution_count": 21,
     "metadata": {},
     "output_type": "execute_result"
    }
   ],
   "source": [
    "# Initialize count vectorizer for product_wt\n",
    "cv = CountVectorizer(stop_words = stop_words, ngram_range = (1, 2), \n",
    "                     analyzer = 'word')\n",
    "cv_content = cv.fit_transform(data['product_wt'])\n",
    "\n",
    "# Perform Cosine Similarity evaluation\n",
    "sim = cosine_similarity(cv_content)\n",
    "cv_sim = sim\n",
    "\n",
    "# Content Based Recommendation\n",
    "cv_recommendations = content_based_product(name)\n",
    "cv_recommendations"
   ]
  },
  {
   "cell_type": "markdown",
   "id": "e88f8356-0576-431a-bf16-cc08f45576d7",
   "metadata": {},
   "source": [
    "- Choose cosine similarity with Count Vectorizer because it has higher Similarity-Score "
   ]
  },
  {
   "cell_type": "markdown",
   "id": "56166ac0-0516-4c0e-86c8-3c77f244490b",
   "metadata": {},
   "source": [
    "### Conclude:\n",
    "- Content-based filtering (Gensim and cosine similarity): choose cosine similarity with Count Vectorizer. "
   ]
  },
  {
   "cell_type": "markdown",
   "id": "3858e11f-dc12-47ae-afdb-8a0b36e9eaed",
   "metadata": {},
   "source": [
    "### Save the model"
   ]
  },
  {
   "cell_type": "code",
   "execution_count": 22,
   "id": "3098c41f-2350-4ced-9b2f-a42fc2ed31b3",
   "metadata": {},
   "outputs": [],
   "source": [
    "# Split the cosine similarity matrix into 2 partitions\n",
    "partitions = np.array_split(cv_sim, 2)\n",
    "\n",
    "# Save each partition separately\n",
    "for i, partition in enumerate(partitions):\n",
    "    np.save(f'ContentBased/cosine_similarity_partition_{i}.npy', partition)"
   ]
  },
  {
   "cell_type": "code",
   "execution_count": null,
   "id": "437a98c6-308f-47a6-a723-c1732edea178",
   "metadata": {},
   "outputs": [],
   "source": []
  }
 ],
 "metadata": {
  "kernelspec": {
   "display_name": "Python 3 (ipykernel)",
   "language": "python",
   "name": "python3"
  },
  "language_info": {
   "codemirror_mode": {
    "name": "ipython",
    "version": 3
   },
   "file_extension": ".py",
   "mimetype": "text/x-python",
   "name": "python",
   "nbconvert_exporter": "python",
   "pygments_lexer": "ipython3",
   "version": "3.8.9"
  }
 },
 "nbformat": 4,
 "nbformat_minor": 5
}
