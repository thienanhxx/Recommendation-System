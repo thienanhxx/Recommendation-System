{
 "cells": [
  {
   "cell_type": "code",
   "execution_count": 1,
   "id": "53b4555f-4dc8-4c89-a3d4-de51e9fd3f6e",
   "metadata": {},
   "outputs": [],
   "source": [
    "import findspark\n",
    "findspark.init()"
   ]
  },
  {
   "cell_type": "code",
   "execution_count": 2,
   "id": "b0141931-607d-41de-988e-a5b7bdcc9264",
   "metadata": {},
   "outputs": [],
   "source": [
    "from pyspark.sql import SparkSession\n",
    "from pyspark import SparkContext\n",
    "from pyspark.sql import SQLContext"
   ]
  },
  {
   "cell_type": "code",
   "execution_count": 3,
   "id": "39475a72-53a2-416a-ac55-e9ffc9e29407",
   "metadata": {},
   "outputs": [],
   "source": [
    "sc = SparkContext()"
   ]
  },
  {
   "cell_type": "code",
   "execution_count": 4,
   "id": "2272e811-5b13-4494-9615-cdbffd1c4709",
   "metadata": {},
   "outputs": [],
   "source": [
    "spark = SparkSession(sc)"
   ]
  },
  {
   "cell_type": "markdown",
   "id": "78b51ff7-37e2-4999-80b6-480250bc7f74",
   "metadata": {},
   "source": [
    "### Read the dataset"
   ]
  },
  {
   "cell_type": "code",
   "execution_count": 5,
   "id": "749f26a4-06ff-4c63-a91f-41c973877611",
   "metadata": {},
   "outputs": [],
   "source": [
    "import pandas as pd\n",
    "from datetime import datetime\n",
    "from pyspark.sql.functions import *\n",
    "from pyspark.sql.types import *"
   ]
  },
  {
   "cell_type": "code",
   "execution_count": 6,
   "id": "d30ce48c-84da-45bb-a740-e7f3b938f23d",
   "metadata": {},
   "outputs": [
    {
     "data": {
      "text/html": [
       "<div>\n",
       "<style scoped>\n",
       "    .dataframe tbody tr th:only-of-type {\n",
       "        vertical-align: middle;\n",
       "    }\n",
       "\n",
       "    .dataframe tbody tr th {\n",
       "        vertical-align: top;\n",
       "    }\n",
       "\n",
       "    .dataframe thead th {\n",
       "        text-align: right;\n",
       "    }\n",
       "</style>\n",
       "<table border=\"1\" class=\"dataframe\">\n",
       "  <thead>\n",
       "    <tr style=\"text-align: right;\">\n",
       "      <th></th>\n",
       "      <th>customer_id</th>\n",
       "      <th>product_id</th>\n",
       "      <th>customer_rating</th>\n",
       "    </tr>\n",
       "  </thead>\n",
       "  <tbody>\n",
       "    <tr>\n",
       "      <th>0</th>\n",
       "      <td>709310</td>\n",
       "      <td>10001012</td>\n",
       "      <td>3</td>\n",
       "    </tr>\n",
       "    <tr>\n",
       "      <th>1</th>\n",
       "      <td>10701688</td>\n",
       "      <td>10001012</td>\n",
       "      <td>5</td>\n",
       "    </tr>\n",
       "    <tr>\n",
       "      <th>2</th>\n",
       "      <td>11763074</td>\n",
       "      <td>10001012</td>\n",
       "      <td>5</td>\n",
       "    </tr>\n",
       "    <tr>\n",
       "      <th>3</th>\n",
       "      <td>9909549</td>\n",
       "      <td>10001012</td>\n",
       "      <td>5</td>\n",
       "    </tr>\n",
       "    <tr>\n",
       "      <th>4</th>\n",
       "      <td>1827148</td>\n",
       "      <td>10001012</td>\n",
       "      <td>5</td>\n",
       "    </tr>\n",
       "  </tbody>\n",
       "</table>\n",
       "</div>"
      ],
      "text/plain": [
       "   customer_id  product_id  customer_rating\n",
       "0       709310    10001012                3\n",
       "1     10701688    10001012                5\n",
       "2     11763074    10001012                5\n",
       "3      9909549    10001012                5\n",
       "4      1827148    10001012                5"
      ]
     },
     "execution_count": 6,
     "metadata": {},
     "output_type": "execute_result"
    }
   ],
   "source": [
    "df = pd.read_csv('Files/Review.csv', index_col=0)\n",
    "df.head()"
   ]
  },
  {
   "cell_type": "code",
   "execution_count": 7,
   "id": "b3f2742e-c992-4f26-956e-bfbf2866193e",
   "metadata": {},
   "outputs": [],
   "source": [
    "df_schema = StructType([\n",
    "                        StructField(\"customer_id\", StringType(), True),\n",
    "                        StructField(\"product_id\", StringType(), True),\n",
    "                        StructField(\"customer_rating\", IntegerType(), True),\n",
    "                       ])\n",
    "data = spark.createDataFrame(df, schema=df_schema)"
   ]
  },
  {
   "cell_type": "code",
   "execution_count": 8,
   "id": "722e2fbf-f5ea-4c3e-be08-8c2337ff31f9",
   "metadata": {},
   "outputs": [
    {
     "name": "stdout",
     "output_type": "stream",
     "text": [
      "+-----------+----------+---------------+\n",
      "|customer_id|product_id|customer_rating|\n",
      "+-----------+----------+---------------+\n",
      "|     709310|  10001012|              3|\n",
      "|   10701688|  10001012|              5|\n",
      "|   11763074|  10001012|              5|\n",
      "|    9909549|  10001012|              5|\n",
      "|    1827148|  10001012|              5|\n",
      "+-----------+----------+---------------+\n",
      "only showing top 5 rows\n",
      "\n"
     ]
    }
   ],
   "source": [
    "data.show(5)"
   ]
  },
  {
   "cell_type": "code",
   "execution_count": 9,
   "id": "c74529f2-3eb9-4c9e-813c-4f11a487b97e",
   "metadata": {},
   "outputs": [],
   "source": [
    "from pyspark.sql.functions import col, udf\n",
    "from pyspark.sql.functions import isnan, when, count, col"
   ]
  },
  {
   "cell_type": "code",
   "execution_count": 10,
   "id": "3fa6a717-afbd-4389-b02d-9613c4efa49a",
   "metadata": {},
   "outputs": [
    {
     "name": "stdout",
     "output_type": "stream",
     "text": [
      "+-----------+----------+---------------+\n",
      "|customer_id|product_id|customer_rating|\n",
      "+-----------+----------+---------------+\n",
      "|     709310|  10001012|              3|\n",
      "|   10701688|  10001012|              5|\n",
      "|   11763074|  10001012|              5|\n",
      "|    9909549|  10001012|              5|\n",
      "|    1827148|  10001012|              5|\n",
      "+-----------+----------+---------------+\n",
      "only showing top 5 rows\n",
      "\n"
     ]
    }
   ],
   "source": [
    "data.show(5, truncate=True)"
   ]
  },
  {
   "cell_type": "code",
   "execution_count": 11,
   "id": "7351d870-1374-4d08-a0b0-dd71d556ff5b",
   "metadata": {},
   "outputs": [
    {
     "data": {
      "text/html": [
       "<div>\n",
       "<style scoped>\n",
       "    .dataframe tbody tr th:only-of-type {\n",
       "        vertical-align: middle;\n",
       "    }\n",
       "\n",
       "    .dataframe tbody tr th {\n",
       "        vertical-align: top;\n",
       "    }\n",
       "\n",
       "    .dataframe thead th {\n",
       "        text-align: right;\n",
       "    }\n",
       "</style>\n",
       "<table border=\"1\" class=\"dataframe\">\n",
       "  <thead>\n",
       "    <tr style=\"text-align: right;\">\n",
       "      <th></th>\n",
       "      <th>customer_id</th>\n",
       "      <th>product_id</th>\n",
       "      <th>customer_rating</th>\n",
       "    </tr>\n",
       "  </thead>\n",
       "  <tbody>\n",
       "    <tr>\n",
       "      <th>0</th>\n",
       "      <td>0</td>\n",
       "      <td>0</td>\n",
       "      <td>0</td>\n",
       "    </tr>\n",
       "  </tbody>\n",
       "</table>\n",
       "</div>"
      ],
      "text/plain": [
       "   customer_id  product_id  customer_rating\n",
       "0            0           0                0"
      ]
     },
     "execution_count": 11,
     "metadata": {},
     "output_type": "execute_result"
    }
   ],
   "source": [
    "data.select([count(when(col(c).isNull(), c)).alias(c) for c in\n",
    "                data.columns]).toPandas()"
   ]
  },
  {
   "cell_type": "markdown",
   "id": "9db8fce8-264a-43ae-80b5-a819c0dc0007",
   "metadata": {},
   "source": [
    "- No null data"
   ]
  },
  {
   "cell_type": "code",
   "execution_count": 12,
   "id": "e5c954f1-ccd7-4887-8d30-bd5f9e862bf3",
   "metadata": {},
   "outputs": [
    {
     "data": {
      "text/plain": [
       "1539"
      ]
     },
     "execution_count": 12,
     "metadata": {},
     "output_type": "execute_result"
    }
   ],
   "source": [
    "# Check duplicates\n",
    "dup_rows = data.count() - data.distinct().count()\n",
    "dup_rows"
   ]
  },
  {
   "cell_type": "code",
   "execution_count": 13,
   "id": "e2175deb-c490-4b38-bae8-ec5474a0db96",
   "metadata": {},
   "outputs": [],
   "source": [
    "# Drop duplicates\n",
    "data = data.drop_duplicates()"
   ]
  },
  {
   "cell_type": "markdown",
   "id": "05adee95-8b32-42d4-950f-d2c29bfa9793",
   "metadata": {},
   "source": [
    "- No duplicates "
   ]
  },
  {
   "cell_type": "code",
   "execution_count": 14,
   "id": "828ac1d0-ebbc-4cb2-87ec-5c9e89fd7920",
   "metadata": {},
   "outputs": [
    {
     "name": "stdout",
     "output_type": "stream",
     "text": [
      "+-------+------------------+\n",
      "|summary|   customer_rating|\n",
      "+-------+------------------+\n",
      "|  count|            360211|\n",
      "|   mean|4.4734752686619785|\n",
      "| stddev| 1.018069608037956|\n",
      "|    min|                 1|\n",
      "|    max|                 5|\n",
      "+-------+------------------+\n",
      "\n"
     ]
    }
   ],
   "source": [
    "data.select('customer_rating').describe().show()"
   ]
  },
  {
   "cell_type": "code",
   "execution_count": 15,
   "id": "9c23258f-65da-4784-813a-afefe69ff259",
   "metadata": {},
   "outputs": [],
   "source": [
    "# Distinct users and products\n",
    "users = data.select('customer_id').distinct().count()\n",
    "products = data.select('product_id').distinct().count()\n",
    "numerator = data.count()"
   ]
  },
  {
   "cell_type": "code",
   "execution_count": 16,
   "id": "81b04aad-bb6d-42f0-8779-969d62fb5079",
   "metadata": {},
   "outputs": [
    {
     "data": {
      "text/plain": [
       "360211"
      ]
     },
     "metadata": {},
     "output_type": "display_data"
    },
    {
     "data": {
      "text/plain": [
       "251491"
      ]
     },
     "metadata": {},
     "output_type": "display_data"
    },
    {
     "data": {
      "text/plain": [
       "4218"
      ]
     },
     "metadata": {},
     "output_type": "display_data"
    }
   ],
   "source": [
    "display(numerator, users, products)"
   ]
  },
  {
   "cell_type": "code",
   "execution_count": 17,
   "id": "351011c5-bead-4b11-8649-1db7ab82e876",
   "metadata": {},
   "outputs": [
    {
     "data": {
      "text/plain": [
       "1060789038"
      ]
     },
     "execution_count": 17,
     "metadata": {},
     "output_type": "execute_result"
    }
   ],
   "source": [
    "# Number of ratings matrix could contain if no empty cells\n",
    "denominator = users * products\n",
    "denominator"
   ]
  },
  {
   "cell_type": "code",
   "execution_count": 18,
   "id": "38d14b19-caa7-433e-9f10-9fe560475bfa",
   "metadata": {},
   "outputs": [
    {
     "name": "stdout",
     "output_type": "stream",
     "text": [
      "Sparsity: \n"
     ]
    },
    {
     "data": {
      "text/plain": [
       "(None, 0.9996604310686702)"
      ]
     },
     "execution_count": 18,
     "metadata": {},
     "output_type": "execute_result"
    }
   ],
   "source": [
    "#Calculating sparsity\n",
    "sparsity = 1 - (numerator*1.0 / denominator)\n",
    "print (\"Sparsity: \"), sparsity"
   ]
  },
  {
   "cell_type": "code",
   "execution_count": 19,
   "id": "b21fc909-f883-44d2-b8d9-d920e35bf371",
   "metadata": {},
   "outputs": [],
   "source": [
    "from pyspark.ml.evaluation import RegressionEvaluator\n",
    "from pyspark.ml.recommendation import ALS"
   ]
  },
  {
   "cell_type": "code",
   "execution_count": 20,
   "id": "58c4d7fc-f16c-4388-9e45-112c73350308",
   "metadata": {},
   "outputs": [],
   "source": [
    "# Converting String to index\n",
    "from pyspark.ml.feature import StringIndexer\n",
    "from pyspark.ml import Pipeline\n",
    "from pyspark.sql.functions import col"
   ]
  },
  {
   "cell_type": "code",
   "execution_count": 21,
   "id": "2af29411-27a7-480b-9ad9-157c7c08934d",
   "metadata": {},
   "outputs": [],
   "source": [
    "# Create an indexer\n",
    "indexer = StringIndexer(inputCol='product_id',\n",
    "                        outputCol='product_id_idx')\n",
    "\n",
    "# Indexer identifies categories in the data\n",
    "indexer_model = indexer.fit(data)\n",
    "\n",
    "# Indexer creates a new column with numeric index values\n",
    "data_indexed = indexer_model.transform(data)\n",
    "\n",
    "# Repeat the process for the other categorical feature\n",
    "indexer1 = StringIndexer(inputCol='customer_id',\n",
    "                        outputCol='customer_id_idx')\n",
    "indexer1_model = indexer1.fit(data_indexed)\n",
    "data_indexed = indexer1_model.transform(data_indexed)"
   ]
  },
  {
   "cell_type": "code",
   "execution_count": 22,
   "id": "77fffe3f-0ae5-4ad6-9c6d-7e35277c2d29",
   "metadata": {},
   "outputs": [
    {
     "name": "stdout",
     "output_type": "stream",
     "text": [
      "+-----------+----------+---------------+--------------+---------------+\n",
      "|customer_id|product_id|customer_rating|product_id_idx|customer_id_idx|\n",
      "+-----------+----------+---------------+--------------+---------------+\n",
      "|    7248606|  10001353|              5|        2041.0|         3028.0|\n",
      "|   15191237|  10001355|              5|        1865.0|        33222.0|\n",
      "|   13146900|  10001382|              5|         243.0|        29444.0|\n",
      "|   15721783|  10001384|              2|         390.0|       120112.0|\n",
      "|    6185696|  10062880|              5|         520.0|       204613.0|\n",
      "+-----------+----------+---------------+--------------+---------------+\n",
      "only showing top 5 rows\n",
      "\n"
     ]
    }
   ],
   "source": [
    "data_indexed.show(5, truncate=True)"
   ]
  },
  {
   "cell_type": "code",
   "execution_count": 23,
   "id": "749cf59c-5e7a-4d30-bcc9-95d4a0f94377",
   "metadata": {},
   "outputs": [
    {
     "data": {
      "text/html": [
       "<div>\n",
       "<style scoped>\n",
       "    .dataframe tbody tr th:only-of-type {\n",
       "        vertical-align: middle;\n",
       "    }\n",
       "\n",
       "    .dataframe tbody tr th {\n",
       "        vertical-align: top;\n",
       "    }\n",
       "\n",
       "    .dataframe thead th {\n",
       "        text-align: right;\n",
       "    }\n",
       "</style>\n",
       "<table border=\"1\" class=\"dataframe\">\n",
       "  <thead>\n",
       "    <tr style=\"text-align: right;\">\n",
       "      <th></th>\n",
       "      <th>0</th>\n",
       "    </tr>\n",
       "  </thead>\n",
       "  <tbody>\n",
       "    <tr>\n",
       "      <th>customer_id</th>\n",
       "      <td>0</td>\n",
       "    </tr>\n",
       "    <tr>\n",
       "      <th>product_id</th>\n",
       "      <td>0</td>\n",
       "    </tr>\n",
       "    <tr>\n",
       "      <th>customer_rating</th>\n",
       "      <td>0</td>\n",
       "    </tr>\n",
       "    <tr>\n",
       "      <th>product_id_idx</th>\n",
       "      <td>0</td>\n",
       "    </tr>\n",
       "    <tr>\n",
       "      <th>customer_id_idx</th>\n",
       "      <td>0</td>\n",
       "    </tr>\n",
       "  </tbody>\n",
       "</table>\n",
       "</div>"
      ],
      "text/plain": [
       "                 0\n",
       "customer_id      0\n",
       "product_id       0\n",
       "customer_rating  0\n",
       "product_id_idx   0\n",
       "customer_id_idx  0"
      ]
     },
     "execution_count": 23,
     "metadata": {},
     "output_type": "execute_result"
    }
   ],
   "source": [
    "data_indexed.select([count(when(col(c).isNull(), c)).alias(c) for c in\n",
    "                    data_indexed.columns]).toPandas().T"
   ]
  },
  {
   "cell_type": "markdown",
   "id": "ccdc5c3e-e51f-437c-92a4-0d3c45ce89aa",
   "metadata": {},
   "source": [
    "- No null data"
   ]
  },
  {
   "cell_type": "markdown",
   "id": "f4e4eb9a-93d4-4824-9fcc-c24018dfadd0",
   "metadata": {},
   "source": [
    "### Train-test split"
   ]
  },
  {
   "cell_type": "code",
   "execution_count": 24,
   "id": "577e5a68-039a-46db-ae50-db34edede851",
   "metadata": {},
   "outputs": [],
   "source": [
    "(training, test) = data_indexed.randomSplit([0.8, 0.2])"
   ]
  },
  {
   "cell_type": "markdown",
   "id": "b1d09587-2fd6-43e1-bb86-83bf85a2209e",
   "metadata": {},
   "source": [
    "### Build model"
   ]
  },
  {
   "cell_type": "code",
   "execution_count": 25,
   "id": "86042dc1-1847-4d31-af9f-2dc63ca220d8",
   "metadata": {},
   "outputs": [],
   "source": [
    "# Creating ALS model and fitting data\n",
    "from pyspark.ml.evaluation import RegressionEvaluator\n",
    "from pyspark.ml.recommendation import ALS"
   ]
  },
  {
   "cell_type": "code",
   "execution_count": 26,
   "id": "6cb627bf-2446-4844-af85-b8b35d04d1f6",
   "metadata": {},
   "outputs": [],
   "source": [
    "als = ALS(maxIter=5,\n",
    "          regParam=0.09,\n",
    "          rank=25,\n",
    "          userCol='customer_id_idx',\n",
    "          itemCol='product_id_idx',\n",
    "          ratingCol='customer_rating',\n",
    "          coldStartStrategy='drop',\n",
    "          nonnegative=True)\n",
    "model = als.fit(training)"
   ]
  },
  {
   "cell_type": "markdown",
   "id": "ac5aeda5-9834-46d5-8364-211a05fae54a",
   "metadata": {},
   "source": [
    "### Testing"
   ]
  },
  {
   "cell_type": "code",
   "execution_count": 27,
   "id": "001a2884-6937-4273-889f-95a6f0bc1282",
   "metadata": {},
   "outputs": [],
   "source": [
    "# Evaluate the model by computing the RMSE on the test data\n",
    "predictions = model.transform(test)"
   ]
  },
  {
   "cell_type": "code",
   "execution_count": 28,
   "id": "ca896061-f713-402a-9f96-5ff090b16404",
   "metadata": {},
   "outputs": [
    {
     "name": "stdout",
     "output_type": "stream",
     "text": [
      "+--------------+---------------+---------------+----------+\n",
      "|product_id_idx|customer_id_idx|customer_rating|prediction|\n",
      "+--------------+---------------+---------------+----------+\n",
      "|        1280.0|           12.0|              5| 6.2430754|\n",
      "|          79.0|           12.0|              5|  4.149614|\n",
      "|          31.0|           12.0|              5| 4.5580273|\n",
      "|         798.0|           12.0|              5| 5.5005198|\n",
      "|         661.0|           12.0|              5| 5.2824526|\n",
      "+--------------+---------------+---------------+----------+\n",
      "only showing top 5 rows\n",
      "\n"
     ]
    }
   ],
   "source": [
    "predictions.select([\"product_id_idx\", \"customer_id_idx\",\n",
    "                    \"customer_rating\", \"prediction\",]).show(5)"
   ]
  },
  {
   "cell_type": "code",
   "execution_count": 29,
   "id": "77cee94c-2a46-4663-b94b-018011b3d305",
   "metadata": {},
   "outputs": [
    {
     "name": "stdout",
     "output_type": "stream",
     "text": [
      "Root-mean-square error = 2.137468867385508\n"
     ]
    }
   ],
   "source": [
    "evaluator = RegressionEvaluator(metricName=\"rmse\",\n",
    "                                labelCol=\"customer_rating\",\n",
    "                                predictionCol=\"prediction\")\n",
    "rmse = evaluator.evaluate(predictions)\n",
    "print(\"Root-mean-square error = \" + str(rmse))"
   ]
  },
  {
   "cell_type": "markdown",
   "id": "35ddeafd-747f-4d55-b803-1fbe726ce598",
   "metadata": {
    "tags": []
   },
   "source": [
    "### Tuning parameters"
   ]
  },
  {
   "cell_type": "code",
   "execution_count": 30,
   "id": "db0c6b3e-c2a6-477a-b933-e02e9a78342b",
   "metadata": {},
   "outputs": [],
   "source": [
    "als_t = ALS(userCol='customer_id_idx', itemCol='product_id_idx', ratingCol='customer_rating', coldStartStrategy=\"drop\", nonnegative=True)"
   ]
  },
  {
   "cell_type": "code",
   "execution_count": 31,
   "id": "7d3d82f0-9cd4-4c71-8579-76a5dcf81af4",
   "metadata": {},
   "outputs": [],
   "source": [
    "from pyspark.ml.tuning import CrossValidator, ParamGridBuilder\n",
    "\n",
    "# define the grid of hyperparameters\n",
    "paramGrid = ParamGridBuilder() \\\n",
    "    .addGrid(als.rank, [50,75,100])\\\n",
    "    .addGrid(als_t.maxIter, [5, 10, 20]) \\\n",
    "    .addGrid(als_t.regParam, [0.1]) \\\n",
    "    .build()"
   ]
  },
  {
   "cell_type": "code",
   "execution_count": 32,
   "id": "f2ab5671-d42a-4e0d-9438-7fdd432d5edd",
   "metadata": {
    "tags": []
   },
   "outputs": [],
   "source": [
    "# define the cross-validator with number of folds and parallelism\n",
    "crossval = CrossValidator(estimator=als_t,\n",
    "                          estimatorParamMaps=paramGrid,\n",
    "                          evaluator=evaluator,\n",
    "                          numFolds=3)"
   ]
  },
  {
   "cell_type": "code",
   "execution_count": 33,
   "id": "92ace7e5-5566-4176-aa50-ce98b9efed62",
   "metadata": {},
   "outputs": [],
   "source": [
    "# fit the cross-validator to the training data\n",
    "cvModel = crossval.fit(training)"
   ]
  },
  {
   "cell_type": "code",
   "execution_count": 34,
   "id": "42c2dfa6-34e4-4c7e-8f9f-be95f1846f96",
   "metadata": {},
   "outputs": [],
   "source": [
    "# best ALS model from the cross-validator\n",
    "bestModel = cvModel.bestModel"
   ]
  },
  {
   "cell_type": "code",
   "execution_count": 35,
   "id": "5d5dba9c-c217-49ed-b723-45272542ce81",
   "metadata": {},
   "outputs": [],
   "source": [
    "# Evaluate the model by computing the RMSE on the test data\n",
    "predictions_t = bestModel.transform(test)"
   ]
  },
  {
   "cell_type": "code",
   "execution_count": 36,
   "id": "8dd95f32-19ff-44f4-ae20-7a8a873842f6",
   "metadata": {},
   "outputs": [
    {
     "name": "stdout",
     "output_type": "stream",
     "text": [
      "Root-mean-square-error =  1.2766821563392612\n"
     ]
    }
   ],
   "source": [
    "rmse_t = evaluator.evaluate(predictions_t)\n",
    "print('Root-mean-square-error = ', str(rmse_t))"
   ]
  },
  {
   "cell_type": "markdown",
   "id": "4fe9aa1d-15d2-42f6-8c63-729540ca0251",
   "metadata": {},
   "source": [
    "- Select bestModel because rmse of bestModel is 1.27, it's less than model's rmse ~2.14"
   ]
  },
  {
   "cell_type": "markdown",
   "id": "fa2b04d3-ebfc-438c-868d-fb11c044f4f6",
   "metadata": {},
   "source": [
    "### Save the model"
   ]
  },
  {
   "cell_type": "code",
   "execution_count": 37,
   "id": "fd61e4be-aba7-4338-acdc-8c244815a33e",
   "metadata": {},
   "outputs": [],
   "source": [
    "bestModel.save('RecommendationSystem_ALS')"
   ]
  },
  {
   "cell_type": "markdown",
   "id": "79c30bd9-1bdf-4039-b8d0-c24cd879296b",
   "metadata": {},
   "source": [
    "### Recommend for specific customers"
   ]
  },
  {
   "cell_type": "code",
   "execution_count": 38,
   "id": "31ca03e9-5712-471d-8d55-892b024251ea",
   "metadata": {},
   "outputs": [],
   "source": [
    "def recommend_product(customer_id):\n",
    "    # Get 10 recommendations which have the highest rating\n",
    "    customer_recs = bestModel.recommendForAllUsers(10)\n",
    "\n",
    "    # create a df of distinct 'customer_id_idx' & 'customer_id'\n",
    "    df_customer_customer_id = data_indexed.select('customer_id_idx', 'customer_id').distinct()\n",
    "\n",
    "    # join with customer_recs\n",
    "    new_customer_recs = customer_recs.join(df_customer_customer_id, on='customer_id_idx', how='left')\n",
    "\n",
    "    # create a df of distinct 'product_id_idx' & 'product_id'\n",
    "    df_product_product_idx = data_indexed.select('product_id_idx', 'product_id').distinct()\n",
    "\n",
    "    # Recommendation for customer_id\n",
    "    find_customer_rec = new_customer_recs.filter(new_customer_recs['customer_id'] == int(customer_id))\n",
    "    customer = find_customer_rec.first()\n",
    "    lst = []\n",
    "    for row in customer['recommendations']:\n",
    "        row_f = df_product_product_idx.filter(df_product_product_idx.product_id_idx == row['product_id_idx'])\n",
    "        row_f_first = row_f.first()\n",
    "        lst.append((row['product_id_idx'], row_f_first['product_id'], row['rating']))\n",
    "    df_rec = spark.createDataFrame(lst, ['product_id_idx', 'product_id', 'rating'])\n",
    "\n",
    "    # join with product name\n",
    "    df_product = spark.read.csv('Files/Product.csv', header=True, inferSchema=True)\n",
    "    df_joined = df_rec.join(df_product, on='product_id')\n",
    "    df_joined = df_joined.select('product_id', 'product_name', 'rating')\n",
    "\n",
    "    # join with customer id\n",
    "    customer_id_idx = df_customer_customer_id.filter(df_customer_customer_id.customer_id == int(customer_id)).select('customer_id_idx').collect()[0][0]\n",
    "    df_final = df_joined.withColumn('customer_id', lit(customer_id_idx))\n",
    "    return df_final"
   ]
  },
  {
   "cell_type": "code",
   "execution_count": 39,
   "id": "1ab2ac8f-4b0f-4c94-92d9-f0247d885aa0",
   "metadata": {},
   "outputs": [
    {
     "name": "stdout",
     "output_type": "stream",
     "text": [
      "+----------+--------------------+-----------------+-----------+\n",
      "|product_id|        product_name|           rating|customer_id|\n",
      "+----------+--------------------+-----------------+-----------+\n",
      "|  66251373|Flycam Bugs 20 EI...|6.492493629455566|     8620.0|\n",
      "|  52699359|Máy Giặt Cửa Trên...|6.004734039306641|     8620.0|\n",
      "|  56399103|Amply Bluetooth K...|5.947179794311523|     8620.0|\n",
      "|  39720996|Loa đứng karaoke ...|5.848761081695557|     8620.0|\n",
      "|  29248122|Máy sấy Electrolu...|5.846507549285889|     8620.0|\n",
      "|  73831096|Laptop Dell Vostr...|5.789547920227051|     8620.0|\n",
      "|   2383179|Máy Ảnh Lấy Liền ...|5.706010818481445|     8620.0|\n",
      "|  50592905|Smart Tivi QLED S...|5.665002822875977|     8620.0|\n",
      "|   9687395|Thẻ Nhớ Lexar SDX...|5.630174160003662|     8620.0|\n",
      "|   4597127|Giá Treo Tivi Sát...| 5.56638765335083|     8620.0|\n",
      "+----------+--------------------+-----------------+-----------+\n",
      "\n"
     ]
    }
   ],
   "source": [
    "df_top10 = recommend_product('5145760')\n",
    "df_top10.show()"
   ]
  },
  {
   "cell_type": "markdown",
   "id": "21b5c951-393a-4a61-a097-3921c3c3ad61",
   "metadata": {},
   "source": [
    "### Save the dataframe"
   ]
  },
  {
   "cell_type": "code",
   "execution_count": 40,
   "id": "3c36dbea-5e98-402b-8148-fd2d2da8fe9a",
   "metadata": {},
   "outputs": [],
   "source": [
    "from pyspark.sql.functions import *\n",
    "\n",
    "def recommend_products_all():\n",
    "    # Get 10 recommendations which have the highest rating\n",
    "    customer_recs = bestModel.recommendForAllUsers(10)\n",
    "\n",
    "    # create a df of distinct 'customer_id_idx' & 'customer_id'\n",
    "    df_customer_customer_id = data_indexed.select('customer_id_idx', 'customer_id').distinct()\n",
    "\n",
    "    # join with customer_recs\n",
    "    new_customer_recs = customer_recs.join(df_customer_customer_id, on='customer_id_idx', how='left')\n",
    "\n",
    "    # create a df of distinct 'product_id_idx' & 'product_id'\n",
    "    df_product = spark.read.csv('Files/Product_image.csv', header=True, inferSchema=True)\n",
    "    df_product_indexed = data_indexed.select('product_id', 'product_id_idx').distinct().join(df_product, on='product_id', how='left')\n",
    "\n",
    "    # join with product name\n",
    "    df_joined = new_customer_recs.withColumn('recommendation', explode('recommendations')) \\\n",
    "        .selectExpr('customer_id', 'recommendation.product_id_idx as product_id_idx', 'recommendation.rating as rating')\n",
    "    df_joined = df_joined.join(df_product_indexed, on='product_id_idx').select('customer_id', 'product_id', 'product_name', 'rating', 'image')\n",
    "    \n",
    "\n",
    "    return df_joined"
   ]
  },
  {
   "cell_type": "code",
   "execution_count": 42,
   "id": "66fb20ee-f8b5-4566-9778-01a6a24d9b73",
   "metadata": {},
   "outputs": [],
   "source": [
    "# call the function and store the result in a variable\n",
    "recommendations = recommend_products_all()\n",
    "\n",
    "# save the DataFrame as parquet\n",
    "recommendations.write.parquet('Files/ALS_recommendation')"
   ]
  }
 ],
 "metadata": {
  "kernelspec": {
   "display_name": "Python 3 (ipykernel)",
   "language": "python",
   "name": "python3"
  },
  "language_info": {
   "codemirror_mode": {
    "name": "ipython",
    "version": 3
   },
   "file_extension": ".py",
   "mimetype": "text/x-python",
   "name": "python",
   "nbconvert_exporter": "python",
   "pygments_lexer": "ipython3",
   "version": "3.8.9"
  }
 },
 "nbformat": 4,
 "nbformat_minor": 5
}
