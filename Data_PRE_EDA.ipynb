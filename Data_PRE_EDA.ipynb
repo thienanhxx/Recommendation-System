{
 "cells": [
  {
   "cell_type": "code",
   "execution_count": 1,
   "id": "ff083460-9625-4c95-a311-e71d193293ff",
   "metadata": {},
   "outputs": [],
   "source": [
    "import numpy as np\n",
    "import pandas as pd\n",
    "import matplotlib.pyplot as plt\n",
    "import matplotlib.pyplot as plt\n",
    "import seaborn as sns\n",
    "import warnings\n",
    "\n",
    "warnings.filterwarnings('ignore')"
   ]
  },
  {
   "cell_type": "markdown",
   "id": "c0a9925b-55ae-4edd-9df1-0147718ca38c",
   "metadata": {},
   "source": [
    "### Read ProductRaw"
   ]
  },
  {
   "cell_type": "code",
   "execution_count": 2,
   "id": "05383b3c-cfce-44b6-be2f-4ddc6f9e0014",
   "metadata": {},
   "outputs": [
    {
     "data": {
      "text/html": [
       "<div>\n",
       "<style scoped>\n",
       "    .dataframe tbody tr th:only-of-type {\n",
       "        vertical-align: middle;\n",
       "    }\n",
       "\n",
       "    .dataframe tbody tr th {\n",
       "        vertical-align: top;\n",
       "    }\n",
       "\n",
       "    .dataframe thead th {\n",
       "        text-align: right;\n",
       "    }\n",
       "</style>\n",
       "<table border=\"1\" class=\"dataframe\">\n",
       "  <thead>\n",
       "    <tr style=\"text-align: right;\">\n",
       "      <th></th>\n",
       "      <th>item_id</th>\n",
       "      <th>name</th>\n",
       "      <th>description</th>\n",
       "      <th>rating</th>\n",
       "      <th>price</th>\n",
       "      <th>list_price</th>\n",
       "      <th>brand</th>\n",
       "      <th>group</th>\n",
       "      <th>url</th>\n",
       "      <th>image</th>\n",
       "    </tr>\n",
       "  </thead>\n",
       "  <tbody>\n",
       "    <tr>\n",
       "      <th>0</th>\n",
       "      <td>48102821</td>\n",
       "      <td>Tai nghe Bluetooth Inpods 12 - Cảm biến vân ta...</td>\n",
       "      <td>THÔNG TIN CHI TIẾT\\nDung lượng pin 300\\nThời g...</td>\n",
       "      <td>4.0</td>\n",
       "      <td>77000</td>\n",
       "      <td>300000</td>\n",
       "      <td>OEM</td>\n",
       "      <td>Thiết Bị Số - Phụ Kiện Số/Thiết Bị Âm Thanh và...</td>\n",
       "      <td>https://tai-nghe-bluetooth-inpods-12-cam-bien-...</td>\n",
       "      <td>https://salt.tikicdn.com/cache/280x280/ts/prod...</td>\n",
       "    </tr>\n",
       "    <tr>\n",
       "      <th>1</th>\n",
       "      <td>52333193</td>\n",
       "      <td>Tai nghe bluetooth không dây F9 True wireless ...</td>\n",
       "      <td>THÔNG TIN CHI TIẾT\\nDung lượng pin 2000mah\\nTh...</td>\n",
       "      <td>4.5</td>\n",
       "      <td>132000</td>\n",
       "      <td>750000</td>\n",
       "      <td>OEM</td>\n",
       "      <td>Thiết Bị Số - Phụ Kiện Số/Thiết Bị Âm Thanh và...</td>\n",
       "      <td>https://tai-nghe-bluetooth-khong-day-f9-true-w...</td>\n",
       "      <td>https://salt.tikicdn.com/cache/280x280/ts/prod...</td>\n",
       "    </tr>\n",
       "    <tr>\n",
       "      <th>2</th>\n",
       "      <td>299461</td>\n",
       "      <td>Chuột Không Dây Logitech M331 Silent - Hàng Ch...</td>\n",
       "      <td>THÔNG TIN CHI TIẾT\\nThương hiệu Logitech\\nĐộ p...</td>\n",
       "      <td>4.8</td>\n",
       "      <td>299000</td>\n",
       "      <td>399000</td>\n",
       "      <td>Logitech</td>\n",
       "      <td>Thiết Bị Số - Phụ Kiện Số/Phụ kiện máy tính và...</td>\n",
       "      <td>https://chuot-khong-day-logitech-m331-silent-p...</td>\n",
       "      <td>https://salt.tikicdn.com/cache/280x280/media/c...</td>\n",
       "    </tr>\n",
       "    <tr>\n",
       "      <th>3</th>\n",
       "      <td>57440329</td>\n",
       "      <td>Loa Bluetooth 5.0 Kiêm Đồng Hồ Báo Thức - [[ 2...</td>\n",
       "      <td>THÔNG TIN CHI TIẾT\\nThương hiệu Acome\\nXuất xứ...</td>\n",
       "      <td>4.7</td>\n",
       "      <td>149000</td>\n",
       "      <td>350000</td>\n",
       "      <td>Acome</td>\n",
       "      <td>Thiết Bị Số - Phụ Kiện Số/Thiết Bị Âm Thanh và...</td>\n",
       "      <td>https://loa-bluetooth-5-0-kiem-dong-ho-bao-thu...</td>\n",
       "      <td>https://salt.tikicdn.com/cache/280x280/ts/prod...</td>\n",
       "    </tr>\n",
       "    <tr>\n",
       "      <th>4</th>\n",
       "      <td>38458616</td>\n",
       "      <td>Tai Nghe Bluetooth Apple AirPods Pro True Wire...</td>\n",
       "      <td>THÔNG TIN CHI TIẾT\\nThương hiệu Apple\\nXuất xứ...</td>\n",
       "      <td>4.8</td>\n",
       "      <td>5090000</td>\n",
       "      <td>8500000</td>\n",
       "      <td>Apple</td>\n",
       "      <td>Thiết Bị Số - Phụ Kiện Số/Thiết Bị Âm Thanh và...</td>\n",
       "      <td>https://tai-nghe-bluetooth-apple-airpods-pro-t...</td>\n",
       "      <td>https://salt.tikicdn.com/cache/280x280/ts/prod...</td>\n",
       "    </tr>\n",
       "  </tbody>\n",
       "</table>\n",
       "</div>"
      ],
      "text/plain": [
       "    item_id                                               name  \\\n",
       "0  48102821  Tai nghe Bluetooth Inpods 12 - Cảm biến vân ta...   \n",
       "1  52333193  Tai nghe bluetooth không dây F9 True wireless ...   \n",
       "2    299461  Chuột Không Dây Logitech M331 Silent - Hàng Ch...   \n",
       "3  57440329  Loa Bluetooth 5.0 Kiêm Đồng Hồ Báo Thức - [[ 2...   \n",
       "4  38458616  Tai Nghe Bluetooth Apple AirPods Pro True Wire...   \n",
       "\n",
       "                                         description  rating    price  \\\n",
       "0  THÔNG TIN CHI TIẾT\\nDung lượng pin 300\\nThời g...     4.0    77000   \n",
       "1  THÔNG TIN CHI TIẾT\\nDung lượng pin 2000mah\\nTh...     4.5   132000   \n",
       "2  THÔNG TIN CHI TIẾT\\nThương hiệu Logitech\\nĐộ p...     4.8   299000   \n",
       "3  THÔNG TIN CHI TIẾT\\nThương hiệu Acome\\nXuất xứ...     4.7   149000   \n",
       "4  THÔNG TIN CHI TIẾT\\nThương hiệu Apple\\nXuất xứ...     4.8  5090000   \n",
       "\n",
       "   list_price     brand                                              group  \\\n",
       "0      300000       OEM  Thiết Bị Số - Phụ Kiện Số/Thiết Bị Âm Thanh và...   \n",
       "1      750000       OEM  Thiết Bị Số - Phụ Kiện Số/Thiết Bị Âm Thanh và...   \n",
       "2      399000  Logitech  Thiết Bị Số - Phụ Kiện Số/Phụ kiện máy tính và...   \n",
       "3      350000     Acome  Thiết Bị Số - Phụ Kiện Số/Thiết Bị Âm Thanh và...   \n",
       "4     8500000     Apple  Thiết Bị Số - Phụ Kiện Số/Thiết Bị Âm Thanh và...   \n",
       "\n",
       "                                                 url  \\\n",
       "0  https://tai-nghe-bluetooth-inpods-12-cam-bien-...   \n",
       "1  https://tai-nghe-bluetooth-khong-day-f9-true-w...   \n",
       "2  https://chuot-khong-day-logitech-m331-silent-p...   \n",
       "3  https://loa-bluetooth-5-0-kiem-dong-ho-bao-thu...   \n",
       "4  https://tai-nghe-bluetooth-apple-airpods-pro-t...   \n",
       "\n",
       "                                               image  \n",
       "0  https://salt.tikicdn.com/cache/280x280/ts/prod...  \n",
       "1  https://salt.tikicdn.com/cache/280x280/ts/prod...  \n",
       "2  https://salt.tikicdn.com/cache/280x280/media/c...  \n",
       "3  https://salt.tikicdn.com/cache/280x280/ts/prod...  \n",
       "4  https://salt.tikicdn.com/cache/280x280/ts/prod...  "
      ]
     },
     "execution_count": 2,
     "metadata": {},
     "output_type": "execute_result"
    }
   ],
   "source": [
    "data_product = pd.read_csv('Files/ProductRaw.csv')\n",
    "data_product.head()"
   ]
  },
  {
   "cell_type": "code",
   "execution_count": 3,
   "id": "af9a9385-504b-4a5e-9629-32e03d803d25",
   "metadata": {},
   "outputs": [],
   "source": [
    "# Change column 'item_id' to 'product_id' so later we can merge with review data\n",
    "data_product.rename(columns = {'item_id':'product_id'}, inplace = True)"
   ]
  },
  {
   "cell_type": "code",
   "execution_count": 4,
   "id": "7380b428-3d31-4c7d-8450-17a97e9caebd",
   "metadata": {},
   "outputs": [],
   "source": [
    "# Change column 'rating' to 'product_rating' so later we can merge with review data without intefering with column 'rating' in review data\n",
    "data_product.rename(columns = {'rating':'product_rating'}, inplace = True)"
   ]
  },
  {
   "cell_type": "code",
   "execution_count": 5,
   "id": "f6ffb704-5426-46b9-9c81-0b70132a3789",
   "metadata": {},
   "outputs": [],
   "source": [
    "# Change column 'name' to 'product_name'\n",
    "data_product.rename(columns = {'name':'product_name'}, inplace = True)"
   ]
  },
  {
   "cell_type": "code",
   "execution_count": 6,
   "id": "36e323e1-f628-4d8b-9958-34ee217a9d81",
   "metadata": {},
   "outputs": [
    {
     "data": {
      "text/plain": [
       "(4404, 10)"
      ]
     },
     "execution_count": 6,
     "metadata": {},
     "output_type": "execute_result"
    }
   ],
   "source": [
    "data_product.shape"
   ]
  },
  {
   "cell_type": "code",
   "execution_count": 7,
   "id": "8d5916e8-741e-478e-9c5d-4cee335238df",
   "metadata": {},
   "outputs": [
    {
     "data": {
      "text/plain": [
       "31"
      ]
     },
     "execution_count": 7,
     "metadata": {},
     "output_type": "execute_result"
    }
   ],
   "source": [
    "# Check duplicated values\n",
    "data_product.duplicated().sum()"
   ]
  },
  {
   "cell_type": "code",
   "execution_count": 8,
   "id": "ed1ba30f-a107-4561-a2f1-8797871ad0eb",
   "metadata": {},
   "outputs": [],
   "source": [
    "# Remove duplicated values\n",
    "data_product = data_product.drop_duplicates()"
   ]
  },
  {
   "cell_type": "code",
   "execution_count": 9,
   "id": "778b5c68-f404-4e67-abf4-23b2fe0a792b",
   "metadata": {},
   "outputs": [
    {
     "data": {
      "text/plain": [
       "(4373, 10)"
      ]
     },
     "execution_count": 9,
     "metadata": {},
     "output_type": "execute_result"
    }
   ],
   "source": [
    "data_product.shape"
   ]
  },
  {
   "cell_type": "code",
   "execution_count": 10,
   "id": "3edce1f7-351e-4cff-82d2-e6c5f5f78cf3",
   "metadata": {},
   "outputs": [],
   "source": [
    "# Remove '\\n' in column 'description'\n",
    "data_product = data_product.replace(r'\\n',' ', regex=True)"
   ]
  },
  {
   "cell_type": "code",
   "execution_count": 11,
   "id": "c627c67b-614a-4909-952e-df9e5629dad7",
   "metadata": {},
   "outputs": [],
   "source": [
    "# Remove 'THÔNG TIN CHI TIẾT\n",
    "data_product['description'] = data_product['description'].str.replace('THÔNG TIN CHI TIẾT', '')"
   ]
  },
  {
   "cell_type": "code",
   "execution_count": 12,
   "id": "a0b65853-94cb-4df2-a655-21369ec647b6",
   "metadata": {},
   "outputs": [],
   "source": [
    "data_product = data_product[['product_id', 'product_name', 'description', 'product_rating', 'group', 'price']]"
   ]
  },
  {
   "cell_type": "code",
   "execution_count": 13,
   "id": "08457232-fa61-4b63-aab0-195959d1dc37",
   "metadata": {},
   "outputs": [
    {
     "data": {
      "text/html": [
       "<div>\n",
       "<style scoped>\n",
       "    .dataframe tbody tr th:only-of-type {\n",
       "        vertical-align: middle;\n",
       "    }\n",
       "\n",
       "    .dataframe tbody tr th {\n",
       "        vertical-align: top;\n",
       "    }\n",
       "\n",
       "    .dataframe thead th {\n",
       "        text-align: right;\n",
       "    }\n",
       "</style>\n",
       "<table border=\"1\" class=\"dataframe\">\n",
       "  <thead>\n",
       "    <tr style=\"text-align: right;\">\n",
       "      <th></th>\n",
       "      <th>product_id</th>\n",
       "      <th>product_name</th>\n",
       "      <th>description</th>\n",
       "      <th>product_rating</th>\n",
       "      <th>group</th>\n",
       "      <th>price</th>\n",
       "    </tr>\n",
       "  </thead>\n",
       "  <tbody>\n",
       "    <tr>\n",
       "      <th>0</th>\n",
       "      <td>48102821</td>\n",
       "      <td>Tai nghe Bluetooth Inpods 12 - Cảm biến vân ta...</td>\n",
       "      <td>Dung lượng pin 300 Thời gian pin - Thời gian ...</td>\n",
       "      <td>4.0</td>\n",
       "      <td>Thiết Bị Số - Phụ Kiện Số/Thiết Bị Âm Thanh và...</td>\n",
       "      <td>77000</td>\n",
       "    </tr>\n",
       "    <tr>\n",
       "      <th>1</th>\n",
       "      <td>52333193</td>\n",
       "      <td>Tai nghe bluetooth không dây F9 True wireless ...</td>\n",
       "      <td>Dung lượng pin 2000mah Thời gian pin Thời gia...</td>\n",
       "      <td>4.5</td>\n",
       "      <td>Thiết Bị Số - Phụ Kiện Số/Thiết Bị Âm Thanh và...</td>\n",
       "      <td>132000</td>\n",
       "    </tr>\n",
       "    <tr>\n",
       "      <th>2</th>\n",
       "      <td>299461</td>\n",
       "      <td>Chuột Không Dây Logitech M331 Silent - Hàng Ch...</td>\n",
       "      <td>Thương hiệu Logitech Độ phân giải quang học 1...</td>\n",
       "      <td>4.8</td>\n",
       "      <td>Thiết Bị Số - Phụ Kiện Số/Phụ kiện máy tính và...</td>\n",
       "      <td>299000</td>\n",
       "    </tr>\n",
       "    <tr>\n",
       "      <th>3</th>\n",
       "      <td>57440329</td>\n",
       "      <td>Loa Bluetooth 5.0 Kiêm Đồng Hồ Báo Thức - [[ 2...</td>\n",
       "      <td>Thương hiệu Acome Xuất xứ thương hiệu Indones...</td>\n",
       "      <td>4.7</td>\n",
       "      <td>Thiết Bị Số - Phụ Kiện Số/Thiết Bị Âm Thanh và...</td>\n",
       "      <td>149000</td>\n",
       "    </tr>\n",
       "    <tr>\n",
       "      <th>4</th>\n",
       "      <td>38458616</td>\n",
       "      <td>Tai Nghe Bluetooth Apple AirPods Pro True Wire...</td>\n",
       "      <td>Thương hiệu Apple Xuất xứ thương hiệu Mỹ Kích...</td>\n",
       "      <td>4.8</td>\n",
       "      <td>Thiết Bị Số - Phụ Kiện Số/Thiết Bị Âm Thanh và...</td>\n",
       "      <td>5090000</td>\n",
       "    </tr>\n",
       "  </tbody>\n",
       "</table>\n",
       "</div>"
      ],
      "text/plain": [
       "   product_id                                       product_name  \\\n",
       "0    48102821  Tai nghe Bluetooth Inpods 12 - Cảm biến vân ta...   \n",
       "1    52333193  Tai nghe bluetooth không dây F9 True wireless ...   \n",
       "2      299461  Chuột Không Dây Logitech M331 Silent - Hàng Ch...   \n",
       "3    57440329  Loa Bluetooth 5.0 Kiêm Đồng Hồ Báo Thức - [[ 2...   \n",
       "4    38458616  Tai Nghe Bluetooth Apple AirPods Pro True Wire...   \n",
       "\n",
       "                                         description  product_rating  \\\n",
       "0   Dung lượng pin 300 Thời gian pin - Thời gian ...             4.0   \n",
       "1   Dung lượng pin 2000mah Thời gian pin Thời gia...             4.5   \n",
       "2   Thương hiệu Logitech Độ phân giải quang học 1...             4.8   \n",
       "3   Thương hiệu Acome Xuất xứ thương hiệu Indones...             4.7   \n",
       "4   Thương hiệu Apple Xuất xứ thương hiệu Mỹ Kích...             4.8   \n",
       "\n",
       "                                               group    price  \n",
       "0  Thiết Bị Số - Phụ Kiện Số/Thiết Bị Âm Thanh và...    77000  \n",
       "1  Thiết Bị Số - Phụ Kiện Số/Thiết Bị Âm Thanh và...   132000  \n",
       "2  Thiết Bị Số - Phụ Kiện Số/Phụ kiện máy tính và...   299000  \n",
       "3  Thiết Bị Số - Phụ Kiện Số/Thiết Bị Âm Thanh và...   149000  \n",
       "4  Thiết Bị Số - Phụ Kiện Số/Thiết Bị Âm Thanh và...  5090000  "
      ]
     },
     "execution_count": 13,
     "metadata": {},
     "output_type": "execute_result"
    }
   ],
   "source": [
    "data_product.head()"
   ]
  },
  {
   "cell_type": "code",
   "execution_count": 14,
   "id": "dfaffc1b-2f7f-402a-883c-f9a43c363221",
   "metadata": {},
   "outputs": [
    {
     "data": {
      "text/plain": [
       "count    4373.000000\n",
       "mean        3.671759\n",
       "std         1.796905\n",
       "min         0.000000\n",
       "25%         3.800000\n",
       "50%         4.500000\n",
       "75%         4.800000\n",
       "max         5.000000\n",
       "Name: product_rating, dtype: float64"
      ]
     },
     "execution_count": 14,
     "metadata": {},
     "output_type": "execute_result"
    }
   ],
   "source": [
    "data_product['product_rating'].describe()"
   ]
  },
  {
   "cell_type": "code",
   "execution_count": 15,
   "id": "6d73a006-eb16-4d1b-bfaf-8de896d3769c",
   "metadata": {},
   "outputs": [],
   "source": [
    "data_product.to_csv('Files/Product.csv')"
   ]
  },
  {
   "cell_type": "markdown",
   "id": "1eb4fe88-f199-4422-89b4-264a8939857f",
   "metadata": {},
   "source": [
    "### Read ReviewRaw"
   ]
  },
  {
   "cell_type": "code",
   "execution_count": 16,
   "id": "ba05e730-2fd2-4306-b631-ca255d816d57",
   "metadata": {},
   "outputs": [
    {
     "data": {
      "text/html": [
       "<div>\n",
       "<style scoped>\n",
       "    .dataframe tbody tr th:only-of-type {\n",
       "        vertical-align: middle;\n",
       "    }\n",
       "\n",
       "    .dataframe tbody tr th {\n",
       "        vertical-align: top;\n",
       "    }\n",
       "\n",
       "    .dataframe thead th {\n",
       "        text-align: right;\n",
       "    }\n",
       "</style>\n",
       "<table border=\"1\" class=\"dataframe\">\n",
       "  <thead>\n",
       "    <tr style=\"text-align: right;\">\n",
       "      <th></th>\n",
       "      <th>customer_id</th>\n",
       "      <th>product_id</th>\n",
       "      <th>name</th>\n",
       "      <th>full_name</th>\n",
       "      <th>created_time</th>\n",
       "      <th>rating</th>\n",
       "      <th>title</th>\n",
       "      <th>content</th>\n",
       "    </tr>\n",
       "  </thead>\n",
       "  <tbody>\n",
       "    <tr>\n",
       "      <th>0</th>\n",
       "      <td>709310</td>\n",
       "      <td>10001012</td>\n",
       "      <td>Lân Nguyễn Hoàng</td>\n",
       "      <td>Lân Nguyễn Hoàng</td>\n",
       "      <td>NaN</td>\n",
       "      <td>3</td>\n",
       "      <td>Ko dùng đc thẻ nhớ</td>\n",
       "      <td>Lúcđầu quên thông tin nên dùng 512gb thì ko đc...</td>\n",
       "    </tr>\n",
       "    <tr>\n",
       "      <th>1</th>\n",
       "      <td>10701688</td>\n",
       "      <td>10001012</td>\n",
       "      <td>Nguyễn Khánh Hòa</td>\n",
       "      <td>Nguyễn Khánh Hòa</td>\n",
       "      <td>NaN</td>\n",
       "      <td>5</td>\n",
       "      <td>Cực kì hài lòng</td>\n",
       "      <td>Tiki giao hàng nhanh. Sản phẩm đúng như mô tả,...</td>\n",
       "    </tr>\n",
       "    <tr>\n",
       "      <th>2</th>\n",
       "      <td>11763074</td>\n",
       "      <td>10001012</td>\n",
       "      <td>Toàn Phạm Khánh</td>\n",
       "      <td>Toàn Phạm Khánh</td>\n",
       "      <td>2019-04-17 15:42:45</td>\n",
       "      <td>5</td>\n",
       "      <td>Cực kì hài lòng</td>\n",
       "      <td>chất lượng camera rõ nét, chống mưa nắng tuyệt...</td>\n",
       "    </tr>\n",
       "    <tr>\n",
       "      <th>3</th>\n",
       "      <td>9909549</td>\n",
       "      <td>10001012</td>\n",
       "      <td>Nguyen Quang Minh</td>\n",
       "      <td>NaN</td>\n",
       "      <td>NaN</td>\n",
       "      <td>5</td>\n",
       "      <td>Rất hài lòng</td>\n",
       "      <td>Hàng được đóng gói cẩn thận, giao hàng nhanh ,...</td>\n",
       "    </tr>\n",
       "    <tr>\n",
       "      <th>4</th>\n",
       "      <td>1827148</td>\n",
       "      <td>10001012</td>\n",
       "      <td>Phạm Bá Đức</td>\n",
       "      <td>Phạm Bá Đức</td>\n",
       "      <td>NaN</td>\n",
       "      <td>5</td>\n",
       "      <td>Cực kì hài lòng</td>\n",
       "      <td>dễ cài đặt, chất lượng tốt, chế độ xem hồng ng...</td>\n",
       "    </tr>\n",
       "  </tbody>\n",
       "</table>\n",
       "</div>"
      ],
      "text/plain": [
       "   customer_id  product_id               name         full_name  \\\n",
       "0       709310    10001012   Lân Nguyễn Hoàng  Lân Nguyễn Hoàng   \n",
       "1     10701688    10001012   Nguyễn Khánh Hòa  Nguyễn Khánh Hòa   \n",
       "2     11763074    10001012    Toàn Phạm Khánh   Toàn Phạm Khánh   \n",
       "3      9909549    10001012  Nguyen Quang Minh               NaN   \n",
       "4      1827148    10001012        Phạm Bá Đức       Phạm Bá Đức   \n",
       "\n",
       "          created_time  rating               title  \\\n",
       "0                  NaN       3  Ko dùng đc thẻ nhớ   \n",
       "1                  NaN       5     Cực kì hài lòng   \n",
       "2  2019-04-17 15:42:45       5     Cực kì hài lòng   \n",
       "3                  NaN       5        Rất hài lòng   \n",
       "4                  NaN       5     Cực kì hài lòng   \n",
       "\n",
       "                                             content  \n",
       "0  Lúcđầu quên thông tin nên dùng 512gb thì ko đc...  \n",
       "1  Tiki giao hàng nhanh. Sản phẩm đúng như mô tả,...  \n",
       "2  chất lượng camera rõ nét, chống mưa nắng tuyệt...  \n",
       "3  Hàng được đóng gói cẩn thận, giao hàng nhanh ,...  \n",
       "4  dễ cài đặt, chất lượng tốt, chế độ xem hồng ng...  "
      ]
     },
     "execution_count": 16,
     "metadata": {},
     "output_type": "execute_result"
    }
   ],
   "source": [
    "data_review = pd.read_csv('Files/ReviewRaw.csv')\n",
    "data_review.head()"
   ]
  },
  {
   "cell_type": "code",
   "execution_count": 17,
   "id": "bd131318-6ab8-4eb3-8681-1c79b0206c96",
   "metadata": {},
   "outputs": [
    {
     "data": {
      "text/plain": [
       "(364099, 8)"
      ]
     },
     "execution_count": 17,
     "metadata": {},
     "output_type": "execute_result"
    }
   ],
   "source": [
    "data_review.shape"
   ]
  },
  {
   "cell_type": "code",
   "execution_count": 18,
   "id": "1f32230f-b48e-496d-ab9a-5307339a60fc",
   "metadata": {},
   "outputs": [
    {
     "data": {
      "text/plain": [
       "2349"
      ]
     },
     "execution_count": 18,
     "metadata": {},
     "output_type": "execute_result"
    }
   ],
   "source": [
    "# Check duplicated values\n",
    "data_review.duplicated().sum()"
   ]
  },
  {
   "cell_type": "code",
   "execution_count": 19,
   "id": "4ced11ba-bdc5-4a4b-b775-f65f3c0b6d07",
   "metadata": {},
   "outputs": [],
   "source": [
    "# Remove duplicated values\n",
    "data_review = data_review.drop_duplicates()"
   ]
  },
  {
   "cell_type": "code",
   "execution_count": 20,
   "id": "eb298df7-4445-4baa-b1d4-136bbac313ca",
   "metadata": {},
   "outputs": [
    {
     "data": {
      "text/plain": [
       "(361750, 8)"
      ]
     },
     "execution_count": 20,
     "metadata": {},
     "output_type": "execute_result"
    }
   ],
   "source": [
    "data_review.shape"
   ]
  },
  {
   "cell_type": "code",
   "execution_count": 21,
   "id": "dfe693b0-80ae-4ace-aeac-5efaef9ecb4f",
   "metadata": {},
   "outputs": [],
   "source": [
    "# Change column 'rating' to 'customer_rating'\n",
    "data_review.rename(columns = {'rating':'customer_rating'}, inplace = True)"
   ]
  },
  {
   "cell_type": "code",
   "execution_count": 22,
   "id": "8f29dfb4-c94a-419f-9a3d-ec756d774313",
   "metadata": {},
   "outputs": [],
   "source": [
    "# Change column 'name' to 'customer_name'\n",
    "data_review.rename(columns = {'name':'customer_name'}, inplace = True)"
   ]
  },
  {
   "cell_type": "code",
   "execution_count": 23,
   "id": "25d3f7ac-ddb7-4b9d-a3c7-ec8b54c340c0",
   "metadata": {},
   "outputs": [],
   "source": [
    "data_review = data_review[['customer_id', 'product_id', 'customer_rating']]"
   ]
  },
  {
   "cell_type": "code",
   "execution_count": 24,
   "id": "c92c35c2-2a29-4417-930b-caeb720588bd",
   "metadata": {},
   "outputs": [
    {
     "data": {
      "text/html": [
       "<div>\n",
       "<style scoped>\n",
       "    .dataframe tbody tr th:only-of-type {\n",
       "        vertical-align: middle;\n",
       "    }\n",
       "\n",
       "    .dataframe tbody tr th {\n",
       "        vertical-align: top;\n",
       "    }\n",
       "\n",
       "    .dataframe thead th {\n",
       "        text-align: right;\n",
       "    }\n",
       "</style>\n",
       "<table border=\"1\" class=\"dataframe\">\n",
       "  <thead>\n",
       "    <tr style=\"text-align: right;\">\n",
       "      <th></th>\n",
       "      <th>customer_id</th>\n",
       "      <th>product_id</th>\n",
       "      <th>customer_rating</th>\n",
       "    </tr>\n",
       "  </thead>\n",
       "  <tbody>\n",
       "    <tr>\n",
       "      <th>0</th>\n",
       "      <td>709310</td>\n",
       "      <td>10001012</td>\n",
       "      <td>3</td>\n",
       "    </tr>\n",
       "    <tr>\n",
       "      <th>1</th>\n",
       "      <td>10701688</td>\n",
       "      <td>10001012</td>\n",
       "      <td>5</td>\n",
       "    </tr>\n",
       "    <tr>\n",
       "      <th>2</th>\n",
       "      <td>11763074</td>\n",
       "      <td>10001012</td>\n",
       "      <td>5</td>\n",
       "    </tr>\n",
       "    <tr>\n",
       "      <th>3</th>\n",
       "      <td>9909549</td>\n",
       "      <td>10001012</td>\n",
       "      <td>5</td>\n",
       "    </tr>\n",
       "    <tr>\n",
       "      <th>4</th>\n",
       "      <td>1827148</td>\n",
       "      <td>10001012</td>\n",
       "      <td>5</td>\n",
       "    </tr>\n",
       "  </tbody>\n",
       "</table>\n",
       "</div>"
      ],
      "text/plain": [
       "   customer_id  product_id  customer_rating\n",
       "0       709310    10001012                3\n",
       "1     10701688    10001012                5\n",
       "2     11763074    10001012                5\n",
       "3      9909549    10001012                5\n",
       "4      1827148    10001012                5"
      ]
     },
     "execution_count": 24,
     "metadata": {},
     "output_type": "execute_result"
    }
   ],
   "source": [
    "data_review.head()"
   ]
  },
  {
   "cell_type": "code",
   "execution_count": 25,
   "id": "ab8928aa-4186-4f90-be7e-85502e94905d",
   "metadata": {},
   "outputs": [
    {
     "data": {
      "text/plain": [
       "count    361750.000000\n",
       "mean          4.474972\n",
       "std           1.016888\n",
       "min           1.000000\n",
       "25%           4.000000\n",
       "50%           5.000000\n",
       "75%           5.000000\n",
       "max           5.000000\n",
       "Name: customer_rating, dtype: float64"
      ]
     },
     "execution_count": 25,
     "metadata": {},
     "output_type": "execute_result"
    }
   ],
   "source": [
    "data_review['customer_rating'].describe()"
   ]
  },
  {
   "cell_type": "code",
   "execution_count": 26,
   "id": "2f5df8d1-5384-42d9-815a-2ed019029d45",
   "metadata": {},
   "outputs": [],
   "source": [
    "data_review.to_csv('Files/Review.csv')"
   ]
  },
  {
   "cell_type": "markdown",
   "id": "5f5daa74-8c37-416b-b02e-ed934a3f587f",
   "metadata": {},
   "source": [
    "### Merge two dataframes "
   ]
  },
  {
   "cell_type": "code",
   "execution_count": 27,
   "id": "112cfb6c-6935-48d3-a263-8ffd3ee1f01c",
   "metadata": {},
   "outputs": [],
   "source": [
    "data = data_review.merge(data_product, on = 'product_id', how='left')"
   ]
  },
  {
   "cell_type": "code",
   "execution_count": 28,
   "id": "022a3d5d-3cc2-4f5d-bb58-4795c66faf5f",
   "metadata": {},
   "outputs": [
    {
     "data": {
      "text/html": [
       "<div>\n",
       "<style scoped>\n",
       "    .dataframe tbody tr th:only-of-type {\n",
       "        vertical-align: middle;\n",
       "    }\n",
       "\n",
       "    .dataframe tbody tr th {\n",
       "        vertical-align: top;\n",
       "    }\n",
       "\n",
       "    .dataframe thead th {\n",
       "        text-align: right;\n",
       "    }\n",
       "</style>\n",
       "<table border=\"1\" class=\"dataframe\">\n",
       "  <thead>\n",
       "    <tr style=\"text-align: right;\">\n",
       "      <th></th>\n",
       "      <th>customer_id</th>\n",
       "      <th>product_id</th>\n",
       "      <th>customer_rating</th>\n",
       "      <th>product_name</th>\n",
       "      <th>description</th>\n",
       "      <th>product_rating</th>\n",
       "      <th>group</th>\n",
       "      <th>price</th>\n",
       "    </tr>\n",
       "  </thead>\n",
       "  <tbody>\n",
       "    <tr>\n",
       "      <th>0</th>\n",
       "      <td>709310</td>\n",
       "      <td>10001012</td>\n",
       "      <td>3</td>\n",
       "      <td>Camera IP Wifi Ngoài Trời Ezviz CS-CV310 720P ...</td>\n",
       "      <td>Thương hiệu EZVIZ Kích thước Khối lượng gói h...</td>\n",
       "      <td>5.0</td>\n",
       "      <td>Máy Ảnh - Máy Quay Phim/Camera Giám Sát/Camera IP</td>\n",
       "      <td>789000.0</td>\n",
       "    </tr>\n",
       "    <tr>\n",
       "      <th>1</th>\n",
       "      <td>10701688</td>\n",
       "      <td>10001012</td>\n",
       "      <td>5</td>\n",
       "      <td>Camera IP Wifi Ngoài Trời Ezviz CS-CV310 720P ...</td>\n",
       "      <td>Thương hiệu EZVIZ Kích thước Khối lượng gói h...</td>\n",
       "      <td>5.0</td>\n",
       "      <td>Máy Ảnh - Máy Quay Phim/Camera Giám Sát/Camera IP</td>\n",
       "      <td>789000.0</td>\n",
       "    </tr>\n",
       "    <tr>\n",
       "      <th>2</th>\n",
       "      <td>11763074</td>\n",
       "      <td>10001012</td>\n",
       "      <td>5</td>\n",
       "      <td>Camera IP Wifi Ngoài Trời Ezviz CS-CV310 720P ...</td>\n",
       "      <td>Thương hiệu EZVIZ Kích thước Khối lượng gói h...</td>\n",
       "      <td>5.0</td>\n",
       "      <td>Máy Ảnh - Máy Quay Phim/Camera Giám Sát/Camera IP</td>\n",
       "      <td>789000.0</td>\n",
       "    </tr>\n",
       "    <tr>\n",
       "      <th>3</th>\n",
       "      <td>9909549</td>\n",
       "      <td>10001012</td>\n",
       "      <td>5</td>\n",
       "      <td>Camera IP Wifi Ngoài Trời Ezviz CS-CV310 720P ...</td>\n",
       "      <td>Thương hiệu EZVIZ Kích thước Khối lượng gói h...</td>\n",
       "      <td>5.0</td>\n",
       "      <td>Máy Ảnh - Máy Quay Phim/Camera Giám Sát/Camera IP</td>\n",
       "      <td>789000.0</td>\n",
       "    </tr>\n",
       "    <tr>\n",
       "      <th>4</th>\n",
       "      <td>1827148</td>\n",
       "      <td>10001012</td>\n",
       "      <td>5</td>\n",
       "      <td>Camera IP Wifi Ngoài Trời Ezviz CS-CV310 720P ...</td>\n",
       "      <td>Thương hiệu EZVIZ Kích thước Khối lượng gói h...</td>\n",
       "      <td>5.0</td>\n",
       "      <td>Máy Ảnh - Máy Quay Phim/Camera Giám Sát/Camera IP</td>\n",
       "      <td>789000.0</td>\n",
       "    </tr>\n",
       "  </tbody>\n",
       "</table>\n",
       "</div>"
      ],
      "text/plain": [
       "   customer_id  product_id  customer_rating  \\\n",
       "0       709310    10001012                3   \n",
       "1     10701688    10001012                5   \n",
       "2     11763074    10001012                5   \n",
       "3      9909549    10001012                5   \n",
       "4      1827148    10001012                5   \n",
       "\n",
       "                                        product_name  \\\n",
       "0  Camera IP Wifi Ngoài Trời Ezviz CS-CV310 720P ...   \n",
       "1  Camera IP Wifi Ngoài Trời Ezviz CS-CV310 720P ...   \n",
       "2  Camera IP Wifi Ngoài Trời Ezviz CS-CV310 720P ...   \n",
       "3  Camera IP Wifi Ngoài Trời Ezviz CS-CV310 720P ...   \n",
       "4  Camera IP Wifi Ngoài Trời Ezviz CS-CV310 720P ...   \n",
       "\n",
       "                                         description  product_rating  \\\n",
       "0   Thương hiệu EZVIZ Kích thước Khối lượng gói h...             5.0   \n",
       "1   Thương hiệu EZVIZ Kích thước Khối lượng gói h...             5.0   \n",
       "2   Thương hiệu EZVIZ Kích thước Khối lượng gói h...             5.0   \n",
       "3   Thương hiệu EZVIZ Kích thước Khối lượng gói h...             5.0   \n",
       "4   Thương hiệu EZVIZ Kích thước Khối lượng gói h...             5.0   \n",
       "\n",
       "                                               group     price  \n",
       "0  Máy Ảnh - Máy Quay Phim/Camera Giám Sát/Camera IP  789000.0  \n",
       "1  Máy Ảnh - Máy Quay Phim/Camera Giám Sát/Camera IP  789000.0  \n",
       "2  Máy Ảnh - Máy Quay Phim/Camera Giám Sát/Camera IP  789000.0  \n",
       "3  Máy Ảnh - Máy Quay Phim/Camera Giám Sát/Camera IP  789000.0  \n",
       "4  Máy Ảnh - Máy Quay Phim/Camera Giám Sát/Camera IP  789000.0  "
      ]
     },
     "execution_count": 28,
     "metadata": {},
     "output_type": "execute_result"
    }
   ],
   "source": [
    "data.head()"
   ]
  },
  {
   "cell_type": "code",
   "execution_count": 29,
   "id": "2c1b8fa1-ef6d-4a64-a982-7f4428e1fb8a",
   "metadata": {},
   "outputs": [
    {
     "data": {
      "text/plain": [
       "customer_id          0\n",
       "product_id           0\n",
       "customer_rating      0\n",
       "product_name       660\n",
       "description        671\n",
       "product_rating     660\n",
       "group              660\n",
       "price              660\n",
       "dtype: int64"
      ]
     },
     "execution_count": 29,
     "metadata": {},
     "output_type": "execute_result"
    }
   ],
   "source": [
    "# Check null values\n",
    "data.isnull().sum()"
   ]
  },
  {
   "cell_type": "code",
   "execution_count": 30,
   "id": "f9f32a91-f2e1-44b6-be0d-7a7477e1428c",
   "metadata": {},
   "outputs": [
    {
     "data": {
      "text/plain": [
       "(361750, 8)"
      ]
     },
     "execution_count": 30,
     "metadata": {},
     "output_type": "execute_result"
    }
   ],
   "source": [
    "data.shape"
   ]
  },
  {
   "cell_type": "code",
   "execution_count": 31,
   "id": "a4c19f06-82e5-45f2-972c-4f12bb5752ee",
   "metadata": {},
   "outputs": [],
   "source": [
    "data = data.dropna().reset_index(drop=True)"
   ]
  },
  {
   "cell_type": "code",
   "execution_count": 32,
   "id": "1724a310-0c46-459d-b1c1-d8f30e6c8b91",
   "metadata": {},
   "outputs": [
    {
     "data": {
      "text/plain": [
       "(361079, 8)"
      ]
     },
     "execution_count": 32,
     "metadata": {},
     "output_type": "execute_result"
    }
   ],
   "source": [
    "data.shape"
   ]
  },
  {
   "cell_type": "code",
   "execution_count": 33,
   "id": "813f7bb3-8584-4d5b-91ad-b7429e0cf488",
   "metadata": {},
   "outputs": [
    {
     "data": {
      "text/plain": [
       "1539"
      ]
     },
     "execution_count": 33,
     "metadata": {},
     "output_type": "execute_result"
    }
   ],
   "source": [
    "# Check duplicated values\n",
    "data.duplicated().sum()"
   ]
  },
  {
   "cell_type": "code",
   "execution_count": 34,
   "id": "de6f7b8d-9f31-4045-8b58-ec8a68e460e5",
   "metadata": {},
   "outputs": [],
   "source": [
    "# Remove duplicated values\n",
    "data = data.drop_duplicates()"
   ]
  },
  {
   "cell_type": "code",
   "execution_count": 35,
   "id": "957cfc7c-6265-4b9c-a1d5-659e58139060",
   "metadata": {},
   "outputs": [
    {
     "data": {
      "text/plain": [
       "(359540, 8)"
      ]
     },
     "execution_count": 35,
     "metadata": {},
     "output_type": "execute_result"
    }
   ],
   "source": [
    "data.shape"
   ]
  },
  {
   "cell_type": "code",
   "execution_count": 36,
   "id": "1e449dc0-e03b-4ff7-b975-71835525e9a9",
   "metadata": {},
   "outputs": [],
   "source": [
    "data.to_csv('Files/Data_FULL.csv')"
   ]
  },
  {
   "cell_type": "markdown",
   "id": "9fcac203-12d6-4af6-80d7-a53ca7b297c8",
   "metadata": {},
   "source": [
    "### EDA"
   ]
  },
  {
   "cell_type": "code",
   "execution_count": 37,
   "id": "72347be6-96fc-4543-a720-67467f7548f2",
   "metadata": {},
   "outputs": [
    {
     "data": {
      "text/plain": [
       "<seaborn.axisgrid.FacetGrid at 0x29777a17280>"
      ]
     },
     "execution_count": 37,
     "metadata": {},
     "output_type": "execute_result"
    },
    {
     "data": {
      "image/png": "[encoded data removed]",
      "text/plain": [
       "<Figure size 360x360 with 1 Axes>"
      ]
     },
     "metadata": {
      "needs_background": "light"
     },
     "output_type": "display_data"
    }
   ],
   "source": [
    "# Display the distribution of product_rating scores\n",
    "sns.displot(data_product['product_rating'])"
   ]
  },
  {
   "cell_type": "markdown",
   "id": "67b2dc1f-f6f9-496d-b3eb-a9ffd5ab963d",
   "metadata": {},
   "source": [
    "- A lot of products have 0 and 5 stars rating. Majority of products have 4 - 5 stars"
   ]
  },
  {
   "cell_type": "code",
   "execution_count": 38,
   "id": "9bc8475e-4e81-488e-9f5e-d9446d8e7b75",
   "metadata": {},
   "outputs": [
    {
     "name": "stdout",
     "output_type": "stream",
     "text": [
      "The median number of ratings per customer:  1.0\n",
      "The average number of ratings per customer:  1.4384212556314142\n"
     ]
    },
    {
     "data": {
      "text/html": [
       "<div>\n",
       "<style scoped>\n",
       "    .dataframe tbody tr th:only-of-type {\n",
       "        vertical-align: middle;\n",
       "    }\n",
       "\n",
       "    .dataframe tbody tr th {\n",
       "        vertical-align: top;\n",
       "    }\n",
       "\n",
       "    .dataframe thead th {\n",
       "        text-align: right;\n",
       "    }\n",
       "</style>\n",
       "<table border=\"1\" class=\"dataframe\">\n",
       "  <thead>\n",
       "    <tr style=\"text-align: right;\">\n",
       "      <th></th>\n",
       "      <th>customer_id</th>\n",
       "      <th>product_id</th>\n",
       "    </tr>\n",
       "  </thead>\n",
       "  <tbody>\n",
       "    <tr>\n",
       "      <th>0</th>\n",
       "      <td>10</td>\n",
       "      <td>2</td>\n",
       "    </tr>\n",
       "    <tr>\n",
       "      <th>1</th>\n",
       "      <td>27</td>\n",
       "      <td>2</td>\n",
       "    </tr>\n",
       "    <tr>\n",
       "      <th>2</th>\n",
       "      <td>28</td>\n",
       "      <td>1</td>\n",
       "    </tr>\n",
       "    <tr>\n",
       "      <th>3</th>\n",
       "      <td>36</td>\n",
       "      <td>3</td>\n",
       "    </tr>\n",
       "    <tr>\n",
       "      <th>4</th>\n",
       "      <td>50</td>\n",
       "      <td>2</td>\n",
       "    </tr>\n",
       "  </tbody>\n",
       "</table>\n",
       "</div>"
      ],
      "text/plain": [
       "   customer_id  product_id\n",
       "0           10           2\n",
       "1           27           2\n",
       "2           28           1\n",
       "3           36           3\n",
       "4           50           2"
      ]
     },
     "execution_count": 38,
     "metadata": {},
     "output_type": "execute_result"
    }
   ],
   "source": [
    "# Count how many products each customer has rated\n",
    "ratings_per_customer = data_review.groupby(['customer_id'], \n",
    "                                   as_index = False)['product_id'].count()\n",
    "print('The median number of ratings per customer: ', \n",
    "      ratings_per_customer['product_id'].median())\n",
    "print('The average number of ratings per customer: ', \n",
    "      ratings_per_customer['product_id'].mean())\n",
    "\n",
    "ratings_per_customer.head()"
   ]
  },
  {
   "cell_type": "code",
   "execution_count": 39,
   "id": "59c66333-7ae9-4db7-9bec-a032873de930",
   "metadata": {},
   "outputs": [
    {
     "data": {
      "text/html": [
       "<div>\n",
       "<style scoped>\n",
       "    .dataframe tbody tr th:only-of-type {\n",
       "        vertical-align: middle;\n",
       "    }\n",
       "\n",
       "    .dataframe tbody tr th {\n",
       "        vertical-align: top;\n",
       "    }\n",
       "\n",
       "    .dataframe thead th {\n",
       "        text-align: right;\n",
       "    }\n",
       "</style>\n",
       "<table border=\"1\" class=\"dataframe\">\n",
       "  <thead>\n",
       "    <tr style=\"text-align: right;\">\n",
       "      <th></th>\n",
       "      <th>group</th>\n",
       "      <th>average_ratings</th>\n",
       "    </tr>\n",
       "  </thead>\n",
       "  <tbody>\n",
       "    <tr>\n",
       "      <th>3</th>\n",
       "      <td>Laptop - Máy Vi Tính - Linh kiện/Laptop/Laptop...</td>\n",
       "      <td>5.000000</td>\n",
       "    </tr>\n",
       "    <tr>\n",
       "      <th>53</th>\n",
       "      <td>Laptop - Máy Vi Tính - Linh kiện/Thiết Bị Văn ...</td>\n",
       "      <td>5.000000</td>\n",
       "    </tr>\n",
       "    <tr>\n",
       "      <th>170</th>\n",
       "      <td>Thiết Bị Số - Phụ Kiện Số/Thiết Bị Chơi Game v...</td>\n",
       "      <td>4.888889</td>\n",
       "    </tr>\n",
       "    <tr>\n",
       "      <th>117</th>\n",
       "      <td>Thiết Bị Số - Phụ Kiện Số/Phụ Kiện Điện Thoại ...</td>\n",
       "      <td>4.878571</td>\n",
       "    </tr>\n",
       "    <tr>\n",
       "      <th>235</th>\n",
       "      <td>Điện Tử - Điện Lạnh/Âm thanh &amp; Phụ kiện Tivi/P...</td>\n",
       "      <td>4.857143</td>\n",
       "    </tr>\n",
       "  </tbody>\n",
       "</table>\n",
       "</div>"
      ],
      "text/plain": [
       "                                                 group  average_ratings\n",
       "3    Laptop - Máy Vi Tính - Linh kiện/Laptop/Laptop...         5.000000\n",
       "53   Laptop - Máy Vi Tính - Linh kiện/Thiết Bị Văn ...         5.000000\n",
       "170  Thiết Bị Số - Phụ Kiện Số/Thiết Bị Chơi Game v...         4.888889\n",
       "117  Thiết Bị Số - Phụ Kiện Số/Phụ Kiện Điện Thoại ...         4.878571\n",
       "235  Điện Tử - Điện Lạnh/Âm thanh & Phụ kiện Tivi/P...         4.857143"
      ]
     },
     "execution_count": 39,
     "metadata": {},
     "output_type": "execute_result"
    }
   ],
   "source": [
    "# Get the average rating per group product\n",
    "product_rating_average = data.groupby('group')['customer_rating'].mean().reset_index()\n",
    "product_rating_average.rename(columns = {'customer_rating' : 'average_ratings'}, inplace = True)\n",
    "product_rating_average.sort_values(by = 'average_ratings', ascending=False).head(5)"
   ]
  },
  {
   "cell_type": "code",
   "execution_count": 40,
   "id": "df3665ab-9719-429c-892b-ba0ffed125eb",
   "metadata": {},
   "outputs": [
    {
     "data": {
      "text/html": [
       "<div>\n",
       "<style scoped>\n",
       "    .dataframe tbody tr th:only-of-type {\n",
       "        vertical-align: middle;\n",
       "    }\n",
       "\n",
       "    .dataframe tbody tr th {\n",
       "        vertical-align: top;\n",
       "    }\n",
       "\n",
       "    .dataframe thead th {\n",
       "        text-align: right;\n",
       "    }\n",
       "</style>\n",
       "<table border=\"1\" class=\"dataframe\">\n",
       "  <thead>\n",
       "    <tr style=\"text-align: right;\">\n",
       "      <th></th>\n",
       "      <th>group</th>\n",
       "      <th>average_ratings</th>\n",
       "    </tr>\n",
       "  </thead>\n",
       "  <tbody>\n",
       "    <tr>\n",
       "      <th>246</th>\n",
       "      <td>Đồng hồ và Trang sức/Trang sức/Vòng tay</td>\n",
       "      <td>1.000000</td>\n",
       "    </tr>\n",
       "    <tr>\n",
       "      <th>245</th>\n",
       "      <td>Điện Tử - Điện Lạnh/Âm thanh &amp; Phụ kiện Tivi/Đ...</td>\n",
       "      <td>3.000000</td>\n",
       "    </tr>\n",
       "    <tr>\n",
       "      <th>143</th>\n",
       "      <td>Thiết Bị Số - Phụ Kiện Số/Phụ kiện máy tính và...</td>\n",
       "      <td>3.400000</td>\n",
       "    </tr>\n",
       "    <tr>\n",
       "      <th>211</th>\n",
       "      <td>Điện Tử - Điện Lạnh/Phụ kiện điện lạnh/Phụ kiệ...</td>\n",
       "      <td>3.675676</td>\n",
       "    </tr>\n",
       "    <tr>\n",
       "      <th>238</th>\n",
       "      <td>Điện Tử - Điện Lạnh/Âm thanh &amp; Phụ kiện Tivi/P...</td>\n",
       "      <td>3.700000</td>\n",
       "    </tr>\n",
       "  </tbody>\n",
       "</table>\n",
       "</div>"
      ],
      "text/plain": [
       "                                                 group  average_ratings\n",
       "246            Đồng hồ và Trang sức/Trang sức/Vòng tay         1.000000\n",
       "245  Điện Tử - Điện Lạnh/Âm thanh & Phụ kiện Tivi/Đ...         3.000000\n",
       "143  Thiết Bị Số - Phụ Kiện Số/Phụ kiện máy tính và...         3.400000\n",
       "211  Điện Tử - Điện Lạnh/Phụ kiện điện lạnh/Phụ kiệ...         3.675676\n",
       "238  Điện Tử - Điện Lạnh/Âm thanh & Phụ kiện Tivi/P...         3.700000"
      ]
     },
     "execution_count": 40,
     "metadata": {},
     "output_type": "execute_result"
    }
   ],
   "source": [
    "product_rating_average.sort_values(by = 'average_ratings', ascending=True).head(5)"
   ]
  },
  {
   "cell_type": "markdown",
   "id": "3fdcf9ed-d791-489e-9859-10f4c17db4ab",
   "metadata": {},
   "source": [
    "- Laptop - Máy Vi Tính has the highest average_ratings from customers\n",
    "- Đồng hồ và Trang sức/Trang sức/Vòng tay has the lowest average_ratings from customers"
   ]
  },
  {
   "cell_type": "code",
   "execution_count": 41,
   "id": "d8541be8-61e2-4498-8785-a585d898e365",
   "metadata": {},
   "outputs": [
    {
     "data": {
      "text/plain": [
       "<seaborn.axisgrid.FacetGrid at 0x2976e9f3c70>"
      ]
     },
     "execution_count": 41,
     "metadata": {},
     "output_type": "execute_result"
    },
    {
     "data": {
      "image/png": "[encoded data removed]",
      "text/plain": [
       "<Figure size 500x500 with 1 Axes>"
      ]
     },
     "metadata": {},
     "output_type": "display_data"
    }
   ],
   "source": [
    "# Display the distribution of average_ratings \n",
    "sns.displot(product_rating_average['average_ratings'])"
   ]
  },
  {
   "cell_type": "markdown",
   "id": "bf409912-4e4a-4661-aa87-eb232baa8335",
   "metadata": {},
   "source": [
    "- Customers' average ratings vary from 4 to 4.8 stars"
   ]
  },
  {
   "cell_type": "code",
   "execution_count": 42,
   "id": "14408153-873c-4af3-a804-4dc5c8092a4a",
   "metadata": {},
   "outputs": [
    {
     "data": {
      "text/plain": [
       "7737978    48\n",
       "6106142    37\n",
       "7377207    35\n",
       "7280719    35\n",
       "1064154    34\n",
       "Name: customer_id, dtype: int64"
      ]
     },
     "execution_count": 42,
     "metadata": {},
     "output_type": "execute_result"
    }
   ],
   "source": [
    "# Customer who submitted the most reviews\n",
    "data.customer_id.value_counts().head(5)"
   ]
  },
  {
   "cell_type": "markdown",
   "id": "b36457e3-bc50-4ca5-9ee6-54937e612d99",
   "metadata": {},
   "source": [
    "- Customer with customer_id = 7737978 had posted the most reviews"
   ]
  },
  {
   "cell_type": "code",
   "execution_count": 43,
   "id": "b7dfdf6d-b41e-4dcf-a547-054bdd09d04d",
   "metadata": {},
   "outputs": [],
   "source": [
    "# # Find max min price based on group\n",
    "# df1 = (data.set_index('group')\n",
    "#          .groupby(['group'])\n",
    "#          .agg(min_price=('price', 'min'),\n",
    "#               max_price=('price', 'max')))\n",
    "# df1.head()"
   ]
  },
  {
   "cell_type": "code",
   "execution_count": 44,
   "id": "3d90a6a5-b1a3-4750-b913-0cb06da56d13",
   "metadata": {},
   "outputs": [],
   "source": [
    "# Highest price per group\n",
    "product_pivot = data.pivot_table(index='group', values='price', aggfunc={'price': ['max', 'count']}).reset_index()"
   ]
  },
  {
   "cell_type": "code",
   "execution_count": 45,
   "id": "f1a20605-d9cf-419e-88ca-e2710032ae20",
   "metadata": {},
   "outputs": [
    {
     "data": {
      "text/html": [
       "<div>\n",
       "<style scoped>\n",
       "    .dataframe tbody tr th:only-of-type {\n",
       "        vertical-align: middle;\n",
       "    }\n",
       "\n",
       "    .dataframe tbody tr th {\n",
       "        vertical-align: top;\n",
       "    }\n",
       "\n",
       "    .dataframe thead th {\n",
       "        text-align: right;\n",
       "    }\n",
       "</style>\n",
       "<table border=\"1\" class=\"dataframe\">\n",
       "  <thead>\n",
       "    <tr style=\"text-align: right;\">\n",
       "      <th></th>\n",
       "      <th>group</th>\n",
       "      <th>count</th>\n",
       "      <th>max</th>\n",
       "    </tr>\n",
       "  </thead>\n",
       "  <tbody>\n",
       "    <tr>\n",
       "      <th>214</th>\n",
       "      <td>Điện Tử - Điện Lạnh/Tivi/Smart Tivi - Android ...</td>\n",
       "      <td>1877</td>\n",
       "      <td>51990000.0</td>\n",
       "    </tr>\n",
       "    <tr>\n",
       "      <th>80</th>\n",
       "      <td>Máy Ảnh - Máy Quay Phim/Máy Ảnh/Máy Ảnh Mirror...</td>\n",
       "      <td>321</td>\n",
       "      <td>44990000.0</td>\n",
       "    </tr>\n",
       "    <tr>\n",
       "      <th>220</th>\n",
       "      <td>Điện Tử - Điện Lạnh/Tủ lạnh</td>\n",
       "      <td>2670</td>\n",
       "      <td>39389000.0</td>\n",
       "    </tr>\n",
       "    <tr>\n",
       "      <th>201</th>\n",
       "      <td>Điện Thoại - Máy Tính Bảng/Điện thoại Smartphone</td>\n",
       "      <td>17210</td>\n",
       "      <td>37990000.0</td>\n",
       "    </tr>\n",
       "    <tr>\n",
       "      <th>215</th>\n",
       "      <td>Điện Tử - Điện Lạnh/Tivi/Tivi 4K</td>\n",
       "      <td>1934</td>\n",
       "      <td>37979000.0</td>\n",
       "    </tr>\n",
       "  </tbody>\n",
       "</table>\n",
       "</div>"
      ],
      "text/plain": [
       "                                                 group  count         max\n",
       "214  Điện Tử - Điện Lạnh/Tivi/Smart Tivi - Android ...   1877  51990000.0\n",
       "80   Máy Ảnh - Máy Quay Phim/Máy Ảnh/Máy Ảnh Mirror...    321  44990000.0\n",
       "220                        Điện Tử - Điện Lạnh/Tủ lạnh   2670  39389000.0\n",
       "201   Điện Thoại - Máy Tính Bảng/Điện thoại Smartphone  17210  37990000.0\n",
       "215                   Điện Tử - Điện Lạnh/Tivi/Tivi 4K   1934  37979000.0"
      ]
     },
     "execution_count": 45,
     "metadata": {},
     "output_type": "execute_result"
    }
   ],
   "source": [
    "top_5_product = product_pivot.sort_values('max', ascending=False).head()\n",
    "top_5_product"
   ]
  },
  {
   "cell_type": "markdown",
   "id": "9ff52a26-e1c3-4317-b64a-8483eb91d108",
   "metadata": {},
   "source": [
    "- Điện Tử - Điện Lạnh/Tivi/Smart Tivi - Android TV has the highest price among other products groups"
   ]
  },
  {
   "cell_type": "code",
   "execution_count": 46,
   "id": "97da2ee7-035a-476d-b2e4-8103331a6827",
   "metadata": {},
   "outputs": [
    {
     "data": {
      "image/png": "[encoded data removed]",
      "text/plain": [
       "<Figure size 1200x500 with 1 Axes>"
      ]
     },
     "metadata": {},
     "output_type": "display_data"
    }
   ],
   "source": [
    "plt.figure(figsize=(12,5))\n",
    "sns.barplot(x='group', y='max', data=top_5_product)\n",
    "plt.xticks(rotation=80)\n",
    "plt.show()"
   ]
  },
  {
   "cell_type": "code",
   "execution_count": 47,
   "id": "19d2f844-fce4-41f4-a872-a08e365bb8e6",
   "metadata": {},
   "outputs": [],
   "source": [
    "# Rating count\n",
    "agg_ratings = data.groupby('product_name').agg(mean_rating = ('customer_rating', 'mean'), number_of_ratings = ('customer_rating', 'count')).reset_index()"
   ]
  },
  {
   "cell_type": "code",
   "execution_count": 48,
   "id": "116e69bf-de83-4ad9-b1ba-624951956b66",
   "metadata": {},
   "outputs": [
    {
     "data": {
      "text/html": [
       "<div>\n",
       "<style scoped>\n",
       "    .dataframe tbody tr th:only-of-type {\n",
       "        vertical-align: middle;\n",
       "    }\n",
       "\n",
       "    .dataframe tbody tr th {\n",
       "        vertical-align: top;\n",
       "    }\n",
       "\n",
       "    .dataframe thead th {\n",
       "        text-align: right;\n",
       "    }\n",
       "</style>\n",
       "<table border=\"1\" class=\"dataframe\">\n",
       "  <thead>\n",
       "    <tr style=\"text-align: right;\">\n",
       "      <th></th>\n",
       "      <th>product_name</th>\n",
       "      <th>mean_rating</th>\n",
       "      <th>number_of_ratings</th>\n",
       "    </tr>\n",
       "  </thead>\n",
       "  <tbody>\n",
       "    <tr>\n",
       "      <th>904</th>\n",
       "      <td>Chuột Không Dây Logitech M331 Silent - Hàng Ch...</td>\n",
       "      <td>4.719193</td>\n",
       "      <td>4658</td>\n",
       "    </tr>\n",
       "    <tr>\n",
       "      <th>2951</th>\n",
       "      <td>Tai Nghe Nhét Tai Mi Basic Xiaomi HSEJ03JY - H...</td>\n",
       "      <td>4.626057</td>\n",
       "      <td>2602</td>\n",
       "    </tr>\n",
       "    <tr>\n",
       "      <th>2542</th>\n",
       "      <td>Pin Sạc Dự Phòng Xiaomi Redmi 20000mAh PB200LM...</td>\n",
       "      <td>4.651201</td>\n",
       "      <td>2414</td>\n",
       "    </tr>\n",
       "    <tr>\n",
       "      <th>3400</th>\n",
       "      <td>USB Kingston DT100G3 32GB USB 3.0 - Hàng Chính...</td>\n",
       "      <td>4.486358</td>\n",
       "      <td>2309</td>\n",
       "    </tr>\n",
       "    <tr>\n",
       "      <th>1247</th>\n",
       "      <td>Dây cáp sạc đa năng Baseus Rapid 4 in 1 Type-C...</td>\n",
       "      <td>4.556164</td>\n",
       "      <td>2190</td>\n",
       "    </tr>\n",
       "  </tbody>\n",
       "</table>\n",
       "</div>"
      ],
      "text/plain": [
       "                                           product_name  mean_rating  \\\n",
       "904   Chuột Không Dây Logitech M331 Silent - Hàng Ch...     4.719193   \n",
       "2951  Tai Nghe Nhét Tai Mi Basic Xiaomi HSEJ03JY - H...     4.626057   \n",
       "2542  Pin Sạc Dự Phòng Xiaomi Redmi 20000mAh PB200LM...     4.651201   \n",
       "3400  USB Kingston DT100G3 32GB USB 3.0 - Hàng Chính...     4.486358   \n",
       "1247  Dây cáp sạc đa năng Baseus Rapid 4 in 1 Type-C...     4.556164   \n",
       "\n",
       "      number_of_ratings  \n",
       "904                4658  \n",
       "2951               2602  \n",
       "2542               2414  \n",
       "3400               2309  \n",
       "1247               2190  "
      ]
     },
     "execution_count": 48,
     "metadata": {},
     "output_type": "execute_result"
    }
   ],
   "source": [
    "agg_ratings.sort_values(by='number_of_ratings', ascending=False).head()"
   ]
  },
  {
   "cell_type": "code",
   "execution_count": 49,
   "id": "3b2e4e7b-7789-4cc4-8e9d-eb4e1e22d3c9",
   "metadata": {
    "tags": []
   },
   "outputs": [
    {
     "data": {
      "text/plain": [
       "<seaborn.axisgrid.JointGrid at 0x2976f9e1b20>"
      ]
     },
     "execution_count": 49,
     "metadata": {},
     "output_type": "execute_result"
    },
    {
     "data": {
      "image/png": "[encoded data removed]",
      "text/plain": [
       "<Figure size 600x600 with 3 Axes>"
      ]
     },
     "metadata": {},
     "output_type": "display_data"
    }
   ],
   "source": [
    "sns.jointplot(x='mean_rating', y='number_of_ratings', data=agg_ratings)"
   ]
  },
  {
   "cell_type": "markdown",
   "id": "e793e140-8e78-4140-90c6-d36fd6a080f6",
   "metadata": {},
   "source": [
    "- Most products have less than 1000 ratings"
   ]
  },
  {
   "cell_type": "code",
   "execution_count": 50,
   "id": "d87fc36a-161a-4311-b3f2-cb3c553aa82d",
   "metadata": {},
   "outputs": [],
   "source": [
    "# Top rated product\n",
    "def plot_product_by(agg_ratings, col, n_rows=10):\n",
    "    plt.figure(figsize=(12,7))\n",
    "    ax = sns.barplot(x=agg_ratings[col].head(n_rows), y=agg_ratings['product_name'].head(n_rows), data=agg_ratings)\n",
    "    plt.xlabel('Score of ' + col)\n",
    "    plt.ylabel(\"Product's name\")    "
   ]
  },
  {
   "cell_type": "code",
   "execution_count": 51,
   "id": "8066b5c1-d237-45ac-a713-39385a3e5bdb",
   "metadata": {},
   "outputs": [],
   "source": [
    "product_sorted_ratings = agg_ratings[agg_ratings['mean_rating']>=4].sort_values('mean_rating', ascending=False)"
   ]
  },
  {
   "cell_type": "code",
   "execution_count": 52,
   "id": "df3947f2-b47e-451a-86bf-9168b9225ce3",
   "metadata": {},
   "outputs": [
    {
     "data": {
      "image/png": "[encoded data removed]",
      "text/plain": [
       "<Figure size 1200x700 with 1 Axes>"
      ]
     },
     "metadata": {},
     "output_type": "display_data"
    }
   ],
   "source": [
    "plot_product_by(product_sorted_ratings, 'mean_rating', 10)"
   ]
  },
  {
   "cell_type": "markdown",
   "id": "bfa531ac-1399-4f3b-8ba7-7db90df58bf2",
   "metadata": {},
   "source": [
    "- Bàn lập trình Panasonic KX-AT7730 has the highest mean_rating"
   ]
  },
  {
   "cell_type": "code",
   "execution_count": null,
   "id": "ce924f0d-fe25-4c2b-bb6c-6cf90a5afd05",
   "metadata": {},
   "outputs": [],
   "source": []
  }
 ],
 "metadata": {
  "kernelspec": {
   "display_name": "Python 3 (ipykernel)",
   "language": "python",
   "name": "python3"
  },
  "language_info": {
   "codemirror_mode": {
    "name": "ipython",
    "version": 3
   },
   "file_extension": ".py",
   "mimetype": "text/x-python",
   "name": "python",
   "nbconvert_exporter": "python",
   "pygments_lexer": "ipython3",
   "version": "3.8.9"
  }
 },
 "nbformat": 4,
 "nbformat_minor": 5
}
