{
 "cells": [
  {
   "cell_type": "code",
   "execution_count": 1,
   "id": "8683c477-d38b-4962-81b8-593be6cc638c",
   "metadata": {},
   "outputs": [],
   "source": [
    "import pandas as pd\n",
    "from surprise import Dataset\n",
    "from surprise import Reader\n",
    "from surprise import SVD, SVDpp, NMF, SlopeOne, KNNBasic, KNNBaseline, KNNWithMeans, KNNWithZScore, CoClustering, BaselineOnly\n",
    "from surprise.model_selection import cross_validate, train_test_split\n",
    "from surprise import accuracy"
   ]
  },
  {
   "cell_type": "code",
   "execution_count": 2,
   "id": "ce38ae4e-dc49-4d1e-9864-0327741a0d5f",
   "metadata": {},
   "outputs": [],
   "source": [
    "# Load data from Review.csv\n",
    "df = pd.read_csv('Files/Review.csv')"
   ]
  },
  {
   "cell_type": "code",
   "execution_count": 3,
   "id": "d56e888c-8c10-450c-94bb-9a7398ec4280",
   "metadata": {},
   "outputs": [],
   "source": [
    "# Define the Reader object\n",
    "reader = Reader(rating_scale=(1, 5))"
   ]
  },
  {
   "cell_type": "code",
   "execution_count": 4,
   "id": "d0a069e9-5bdc-47fd-bf35-4fe2499fe198",
   "metadata": {},
   "outputs": [],
   "source": [
    "# Load data into the Surprise Dataset format\n",
    "data = Dataset.load_from_df(df[['customer_id', 'product_id', 'customer_rating']], reader)"
   ]
  },
  {
   "cell_type": "code",
   "execution_count": 5,
   "id": "5b0fe05b-c72e-4097-8121-f09f363f83d0",
   "metadata": {},
   "outputs": [],
   "source": [
    "# Split the data into training and testing sets\n",
    "trainset, testset = train_test_split(data, test_size=0.2, random_state=42)"
   ]
  },
  {
   "cell_type": "code",
   "execution_count": 6,
   "id": "079e5ddf-ba6b-4dc0-8fee-2293eb3d4ab3",
   "metadata": {},
   "outputs": [
    {
     "data": {
      "text/plain": [
       "<surprise.prediction_algorithms.matrix_factorization.SVDpp at 0x1e1e736e280>"
      ]
     },
     "execution_count": 6,
     "metadata": {},
     "output_type": "execute_result"
    }
   ],
   "source": [
    "# Train the SVDpp algorithm on the training set\n",
    "algo = SVDpp()\n",
    "algo.fit(trainset)"
   ]
  },
  {
   "cell_type": "code",
   "execution_count": 7,
   "id": "9038dce7-f79c-43ac-b102-b60b94bcd3a1",
   "metadata": {},
   "outputs": [],
   "source": [
    "# Make predictions on the test set\n",
    "predictions = algo.test(testset)"
   ]
  },
  {
   "cell_type": "code",
   "execution_count": 8,
   "id": "30bc0e9b-4835-41e1-9601-c0dc0047af1f",
   "metadata": {},
   "outputs": [
    {
     "name": "stdout",
     "output_type": "stream",
     "text": [
      "RMSE: 0.9814\n",
      "SVDpp -- RMSE: 0.9814110697005336\n",
      "MAE:  0.6602\n",
      "SVDpp -- MAE: 0.6602386330999442\n"
     ]
    }
   ],
   "source": [
    "# Calculate and print the RMSE and MAE\n",
    "print('SVDpp -- RMSE:', accuracy.rmse(predictions))\n",
    "print('SVDpp -- MAE:', accuracy.mae(predictions))"
   ]
  },
  {
   "cell_type": "code",
   "execution_count": 9,
   "id": "14168895-9499-49a0-a524-3071e57184ac",
   "metadata": {},
   "outputs": [],
   "source": [
    "def recommend_products(customer_id, num_recommendations=10):\n",
    "    # Get a list of all product IDs\n",
    "    product_ids = df['product_id'].unique()\n",
    "\n",
    "    # Create a list of tuples containing the product ID and predicted rating for the given customer\n",
    "    predictions = [(iid, algo.predict(customer_id, iid).est) for iid in product_ids]\n",
    "\n",
    "    # Sort the predictions by predicted rating (highest first) and select the top N recommendations\n",
    "    recommendations = sorted(predictions, key=lambda x: x[1], reverse=True)[:num_recommendations]\n",
    "\n",
    "    # Extract the product IDs from the recommendation tuples and create a new DataFrame with product names and ratings\n",
    "    recommended_products = pd.DataFrame(recommendations, columns=['product_id', 'rating'])\n",
    "    products_df = pd.read_csv('Files/Product.csv')\n",
    "    recommended_products = recommended_products.merge(products_df[['product_id', 'product_name']], on='product_id')\n",
    "    recommended_products = recommended_products[['product_id', 'product_name', 'rating']]\n",
    "\n",
    "    return recommended_products"
   ]
  },
  {
   "cell_type": "code",
   "execution_count": 10,
   "id": "79be3bb3-80da-4e3e-b5e9-713c1d3ec3f8",
   "metadata": {},
   "outputs": [],
   "source": [
    "customer_id = 'A3HPCRD9RX351S'\n",
    "recommended_products = recommend_products(customer_id)"
   ]
  },
  {
   "cell_type": "code",
   "execution_count": 11,
   "id": "f61155b0-9857-4074-9d3f-782bcca6a02b",
   "metadata": {},
   "outputs": [
    {
     "data": {
      "text/html": [
       "<div>\n",
       "<style scoped>\n",
       "    .dataframe tbody tr th:only-of-type {\n",
       "        vertical-align: middle;\n",
       "    }\n",
       "\n",
       "    .dataframe tbody tr th {\n",
       "        vertical-align: top;\n",
       "    }\n",
       "\n",
       "    .dataframe thead th {\n",
       "        text-align: right;\n",
       "    }\n",
       "</style>\n",
       "<table border=\"1\" class=\"dataframe\">\n",
       "  <thead>\n",
       "    <tr style=\"text-align: right;\">\n",
       "      <th></th>\n",
       "      <th>product_id</th>\n",
       "      <th>product_name</th>\n",
       "      <th>rating</th>\n",
       "    </tr>\n",
       "  </thead>\n",
       "  <tbody>\n",
       "    <tr>\n",
       "      <th>0</th>\n",
       "      <td>74558946</td>\n",
       "      <td>iPad Pro 11 inch (2020) 128GB Wifi  - Hàng  Ch...</td>\n",
       "      <td>4.922984</td>\n",
       "    </tr>\n",
       "    <tr>\n",
       "      <th>1</th>\n",
       "      <td>54582248</td>\n",
       "      <td>Bộ Vi Xử Lý CPU AMD Ryzen 3 3100 Processors - ...</td>\n",
       "      <td>4.899782</td>\n",
       "    </tr>\n",
       "    <tr>\n",
       "      <th>2</th>\n",
       "      <td>53056161</td>\n",
       "      <td>Phần mềm Microsoft 365 Family English APAC EM ...</td>\n",
       "      <td>4.897587</td>\n",
       "    </tr>\n",
       "    <tr>\n",
       "      <th>3</th>\n",
       "      <td>4679003</td>\n",
       "      <td>Giá Treo Màn Máy Tính Góc Xoay Đa Hướng Nhập K...</td>\n",
       "      <td>4.895543</td>\n",
       "    </tr>\n",
       "    <tr>\n",
       "      <th>4</th>\n",
       "      <td>71896003</td>\n",
       "      <td>Đồng Hồ Thông Minh Apple Watch Series 6 LTE GP...</td>\n",
       "      <td>4.883856</td>\n",
       "    </tr>\n",
       "  </tbody>\n",
       "</table>\n",
       "</div>"
      ],
      "text/plain": [
       "   product_id                                       product_name    rating\n",
       "0    74558946  iPad Pro 11 inch (2020) 128GB Wifi  - Hàng  Ch...  4.922984\n",
       "1    54582248  Bộ Vi Xử Lý CPU AMD Ryzen 3 3100 Processors - ...  4.899782\n",
       "2    53056161  Phần mềm Microsoft 365 Family English APAC EM ...  4.897587\n",
       "3     4679003  Giá Treo Màn Máy Tính Góc Xoay Đa Hướng Nhập K...  4.895543\n",
       "4    71896003  Đồng Hồ Thông Minh Apple Watch Series 6 LTE GP...  4.883856"
      ]
     },
     "execution_count": 11,
     "metadata": {},
     "output_type": "execute_result"
    }
   ],
   "source": [
    "recommended_products.head()"
   ]
  },
  {
   "cell_type": "code",
   "execution_count": null,
   "id": "9b8f54fe-b174-466e-b5e6-235630edc21b",
   "metadata": {},
   "outputs": [],
   "source": []
  }
 ],
 "metadata": {
  "kernelspec": {
   "display_name": "Python 3 (ipykernel)",
   "language": "python",
   "name": "python3"
  },
  "language_info": {
   "codemirror_mode": {
    "name": "ipython",
    "version": 3
   },
   "file_extension": ".py",
   "mimetype": "text/x-python",
   "name": "python",
   "nbconvert_exporter": "python",
   "pygments_lexer": "ipython3",
   "version": "3.8.9"
  }
 },
 "nbformat": 4,
 "nbformat_minor": 5
}
